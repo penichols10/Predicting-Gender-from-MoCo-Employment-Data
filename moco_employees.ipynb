{
 "cells": [
  {
   "cell_type": "code",
   "execution_count": 303,
   "metadata": {},
   "outputs": [],
   "source": [
    "from bs4 import BeautifulSoup as bs\n",
    "import pandas as pd\n",
    "import numpy as np\n",
    "import seaborn as sns\n",
    "import matplotlib.pyplot as plt\n",
    "import requests\n",
    "import scipy.stats as stats\n",
    "from xgboost import XGBClassifier\n",
    "from sklearn.model_selection import train_test_split\n",
    "from sklearn.model_selection import RandomizedSearchCV\n",
    "from sklearn.metrics import classification_report"
   ]
  },
  {
   "cell_type": "markdown",
   "metadata": {},
   "source": [
    "# Retrieving Data\n",
    "\n",
    "The data was retrieved from Montgomery County's open data portal [here](https://data.montgomerycountymd.gov/widgets/he7s-ebwb?mobile_redirect=true). Specifically, I found the appropriate request using Firefox's network tool, loaded the request in Insomnia, changed the id limit parameter to load all of the data, and used Insomnia to create a query using Python's request library. The reseponse was, fortunately, a very nice JSON string."
   ]
  },
  {
   "cell_type": "code",
   "execution_count": 304,
   "metadata": {},
   "outputs": [],
   "source": [
    "url = \"https://data.montgomerycountymd.gov/api/id/he7s-ebwb.json\"\n",
    "\n",
    "# There are 9958 employee records; this loads all of the data\n",
    "querystring = {\"$query\":\"select *, :id limit 9958\"}\n",
    "\n",
    "payload = \"\"\n",
    "headers = {\n",
    "    \"User-Agent\": \"Mozilla/5.0 (Windows NT 10.0; Win64; x64; rv:102.0) Gecko/20100101 Firefox/102.0\",\n",
    "    \"Accept\": \"application/json\",\n",
    "    \"Accept-Language\": \"en-US,en;q=0.5\",\n",
    "    \"Accept-Encoding\": \"gzip, deflate, br\",\n",
    "    \"Referer\": \"https://data.montgomerycountymd.gov/widgets/he7s-ebwb?mobile_redirect=true\",\n",
    "    \"X-Socrata-Federation\": \"Honey Badger\",\n",
    "    \"X-App-Token\": \"U29jcmF0YS0td2VraWNrYXNz0\",\n",
    "    \"X-Requested-With\": \"XMLHttpRequest\",\n",
    "    \"Connection\": \"keep-alive\",\n",
    "    \"Cookie\": \"_frontend_session=RzFROVpuK1k5RXg0VVZhcEVXajBxdVVpVXJWd0pvWDY1eHBLVGlDNFYxc2IyRWV6ZC9aT3hsYUpFbnFQN1Z6NWdGN1VYVGFJelBWSVhRZ3FyK21wRS9kRlY3bWU1OXdmVHJwZWQ5dk13ZFNXNkdqeEpzL0M2NkhFcGkxazFHV3VCVjRLSDdNdU1QTGZMZldxYmtjUVd4bG1odys4KzBmajg4MjZBUFJDWnp2azZFNFpma1Q4OGFETGRuNmFTclVRWHBPc0NxZEtjT0JnVzlwYTF0dmVma2o3ZWl2ZWpwcUEyejJkd21RdkZZUzZTTGxsbFd5TklZTFdXKzRUOXNUMXdtVGt6SnQvcWxxMmlXQmtRN2sxd2cwTFVqZnlkaUFFMy81Nk5PMjZSNW89LS1xd1RkU1lETWZBNGNKck94Z0dTMnlBPT0%3D--53af52b516a73eef4406b1ddc4008746c6bbaf93; socrata-csrf-token=MtxwuKTHkI6lnTZl7si794H/vqDvP5rebyURkBWL/vQUfYQlt+5SVH9epGxtAu0g3ccsw5BN+A9sea+shuR/YA==; _ga=GA1.2.1923128069.1657561745; _gid=GA1.2.293823794.1657561745\",\n",
    "    \"Sec-Fetch-Dest\": \"empty\",\n",
    "    \"Sec-Fetch-Mode\": \"cors\",\n",
    "    \"Sec-Fetch-Site\": \"same-origin\"\n",
    "}\n",
    "\n",
    "response = requests.request(\"GET\", url, data=payload, headers=headers, params=querystring)\n",
    "\n",
    "data = response.json()"
   ]
  },
  {
   "cell_type": "code",
   "execution_count": 305,
   "metadata": {},
   "outputs": [
    {
     "data": {
      "text/html": [
       "<div>\n",
       "<style scoped>\n",
       "    .dataframe tbody tr th:only-of-type {\n",
       "        vertical-align: middle;\n",
       "    }\n",
       "\n",
       "    .dataframe tbody tr th {\n",
       "        vertical-align: top;\n",
       "    }\n",
       "\n",
       "    .dataframe thead th {\n",
       "        text-align: right;\n",
       "    }\n",
       "</style>\n",
       "<table border=\"1\" class=\"dataframe\">\n",
       "  <thead>\n",
       "    <tr style=\"text-align: right;\">\n",
       "      <th></th>\n",
       "      <th>department</th>\n",
       "      <th>department_name</th>\n",
       "      <th>division</th>\n",
       "      <th>gender</th>\n",
       "      <th>base_salary</th>\n",
       "      <th>_2020_overtime_pay</th>\n",
       "      <th>_2020_longevity_pay</th>\n",
       "      <th>grade</th>\n",
       "      <th>:id</th>\n",
       "    </tr>\n",
       "  </thead>\n",
       "  <tbody>\n",
       "    <tr>\n",
       "      <th>0</th>\n",
       "      <td>ABS</td>\n",
       "      <td>Alcohol Beverage Services</td>\n",
       "      <td>Wholesale Administration</td>\n",
       "      <td>F</td>\n",
       "      <td>78902.00</td>\n",
       "      <td>199.17</td>\n",
       "      <td>0.00</td>\n",
       "      <td>18</td>\n",
       "      <td>row-zsve-xuyu.q69s</td>\n",
       "    </tr>\n",
       "    <tr>\n",
       "      <th>1</th>\n",
       "      <td>ABS</td>\n",
       "      <td>Alcohol Beverage Services</td>\n",
       "      <td>Administrative Services</td>\n",
       "      <td>F</td>\n",
       "      <td>35926.00</td>\n",
       "      <td>0.00</td>\n",
       "      <td>4038.91</td>\n",
       "      <td>16</td>\n",
       "      <td>row-hc9h-u4a8-4sht</td>\n",
       "    </tr>\n",
       "    <tr>\n",
       "      <th>2</th>\n",
       "      <td>ABS</td>\n",
       "      <td>Alcohol Beverage Services</td>\n",
       "      <td>Administration</td>\n",
       "      <td>M</td>\n",
       "      <td>167345.00</td>\n",
       "      <td>0.00</td>\n",
       "      <td>0.00</td>\n",
       "      <td>M2</td>\n",
       "      <td>row-e39h_asgn~x33v</td>\n",
       "    </tr>\n",
       "    <tr>\n",
       "      <th>3</th>\n",
       "      <td>ABS</td>\n",
       "      <td>Alcohol Beverage Services</td>\n",
       "      <td>Wholesale Operations</td>\n",
       "      <td>F</td>\n",
       "      <td>90848.00</td>\n",
       "      <td>0.00</td>\n",
       "      <td>5717.68</td>\n",
       "      <td>21</td>\n",
       "      <td>row-w2w8~sazr~wn4e</td>\n",
       "    </tr>\n",
       "    <tr>\n",
       "      <th>4</th>\n",
       "      <td>ABS</td>\n",
       "      <td>Alcohol Beverage Services</td>\n",
       "      <td>Administration</td>\n",
       "      <td>F</td>\n",
       "      <td>78902.00</td>\n",
       "      <td>205.16</td>\n",
       "      <td>2460.24</td>\n",
       "      <td>18</td>\n",
       "      <td>row-iype~m3id-br4b</td>\n",
       "    </tr>\n",
       "  </tbody>\n",
       "</table>\n",
       "</div>"
      ],
      "text/plain": [
       "  department            department_name                  division gender  \\\n",
       "0        ABS  Alcohol Beverage Services  Wholesale Administration      F   \n",
       "1        ABS  Alcohol Beverage Services   Administrative Services      F   \n",
       "2        ABS  Alcohol Beverage Services            Administration      M   \n",
       "3        ABS  Alcohol Beverage Services      Wholesale Operations      F   \n",
       "4        ABS  Alcohol Beverage Services            Administration      F   \n",
       "\n",
       "  base_salary _2020_overtime_pay _2020_longevity_pay grade                 :id  \n",
       "0    78902.00             199.17                0.00    18  row-zsve-xuyu.q69s  \n",
       "1    35926.00               0.00             4038.91    16  row-hc9h-u4a8-4sht  \n",
       "2   167345.00               0.00                0.00    M2  row-e39h_asgn~x33v  \n",
       "3    90848.00               0.00             5717.68    21  row-w2w8~sazr~wn4e  \n",
       "4    78902.00             205.16             2460.24    18  row-iype~m3id-br4b  "
      ]
     },
     "execution_count": 305,
     "metadata": {},
     "output_type": "execute_result"
    }
   ],
   "source": [
    "df = pd.json_normalize(data)\n",
    "df.head()"
   ]
  },
  {
   "cell_type": "markdown",
   "metadata": {},
   "source": [
    "# Data Cleaning"
   ]
  },
  {
   "cell_type": "markdown",
   "metadata": {},
   "source": [
    "The head of the dataframe looks nice, other than the :id feature and some of the column names. First I look at the :id feature, to determine if it contains values worth keeping. Next, I rename the columns."
   ]
  },
  {
   "cell_type": "code",
   "execution_count": 306,
   "metadata": {},
   "outputs": [
    {
     "name": "stdout",
     "output_type": "stream",
     "text": [
      "First 20 unique :id values:\n"
     ]
    },
    {
     "data": {
      "text/plain": [
       "['row-phmf-nwmq.u9ve',\n",
       " 'row-qws2_y9a6-6bsx',\n",
       " 'row-b3rz.e5id_efxg',\n",
       " 'row-sez8.33bq~2yuw',\n",
       " 'row-9ayw~ke8d~zey2',\n",
       " 'row-eh43.gksz~mrgg',\n",
       " 'row-vhg5~t2xt_t6kx',\n",
       " 'row-piyi-8bib~ndx9',\n",
       " 'row-2bic.cyy3-79wr',\n",
       " 'row-p5pt.pb7r.yj3c',\n",
       " 'row-a67v-wbk6~tnae',\n",
       " 'row-ef6h_6nn2~7ux2',\n",
       " 'row-9w79~642h-33et',\n",
       " 'row-g2yk-q4ij_3dzc',\n",
       " 'row-kyxd-frdv.wm3v',\n",
       " 'row-hwrn-i79e.8dv5',\n",
       " 'row-5s9u-y88p_r2jt',\n",
       " 'row-m84r.5k6b-inxa',\n",
       " 'row-n99r-bjvr-q3me',\n",
       " 'row-9gz2~npc2~vcwx']"
      ]
     },
     "execution_count": 306,
     "metadata": {},
     "output_type": "execute_result"
    }
   ],
   "source": [
    "id = list(set(row[':id'] for row in data))\n",
    "print('First 20 unique :id values:')\n",
    "id[:20]"
   ]
  },
  {
   "cell_type": "markdown",
   "metadata": {},
   "source": [
    "It is safe to conclude that this does not contain any useful information about employee pay."
   ]
  },
  {
   "cell_type": "code",
   "execution_count": 307,
   "metadata": {},
   "outputs": [],
   "source": [
    "# Drop :id feature\n",
    "df.drop(':id', axis=1, inplace=True)\n",
    "\n",
    "df.columns = ['department', 'department_name', 'division', 'gender', 'base_salary',\n",
    "       'overtime_pay', 'longevity_pay', 'pay_grade']"
   ]
  },
  {
   "cell_type": "code",
   "execution_count": 308,
   "metadata": {},
   "outputs": [
    {
     "data": {
      "text/html": [
       "<div>\n",
       "<style scoped>\n",
       "    .dataframe tbody tr th:only-of-type {\n",
       "        vertical-align: middle;\n",
       "    }\n",
       "\n",
       "    .dataframe tbody tr th {\n",
       "        vertical-align: top;\n",
       "    }\n",
       "\n",
       "    .dataframe thead th {\n",
       "        text-align: right;\n",
       "    }\n",
       "</style>\n",
       "<table border=\"1\" class=\"dataframe\">\n",
       "  <thead>\n",
       "    <tr style=\"text-align: right;\">\n",
       "      <th></th>\n",
       "      <th>department</th>\n",
       "      <th>department_name</th>\n",
       "      <th>division</th>\n",
       "      <th>gender</th>\n",
       "      <th>base_salary</th>\n",
       "      <th>overtime_pay</th>\n",
       "      <th>longevity_pay</th>\n",
       "      <th>pay_grade</th>\n",
       "    </tr>\n",
       "  </thead>\n",
       "  <tbody>\n",
       "    <tr>\n",
       "      <th>0</th>\n",
       "      <td>ABS</td>\n",
       "      <td>Alcohol Beverage Services</td>\n",
       "      <td>Wholesale Administration</td>\n",
       "      <td>F</td>\n",
       "      <td>78902.00</td>\n",
       "      <td>199.17</td>\n",
       "      <td>0.00</td>\n",
       "      <td>18</td>\n",
       "    </tr>\n",
       "    <tr>\n",
       "      <th>1</th>\n",
       "      <td>ABS</td>\n",
       "      <td>Alcohol Beverage Services</td>\n",
       "      <td>Administrative Services</td>\n",
       "      <td>F</td>\n",
       "      <td>35926.00</td>\n",
       "      <td>0.00</td>\n",
       "      <td>4038.91</td>\n",
       "      <td>16</td>\n",
       "    </tr>\n",
       "    <tr>\n",
       "      <th>2</th>\n",
       "      <td>ABS</td>\n",
       "      <td>Alcohol Beverage Services</td>\n",
       "      <td>Administration</td>\n",
       "      <td>M</td>\n",
       "      <td>167345.00</td>\n",
       "      <td>0.00</td>\n",
       "      <td>0.00</td>\n",
       "      <td>M2</td>\n",
       "    </tr>\n",
       "    <tr>\n",
       "      <th>3</th>\n",
       "      <td>ABS</td>\n",
       "      <td>Alcohol Beverage Services</td>\n",
       "      <td>Wholesale Operations</td>\n",
       "      <td>F</td>\n",
       "      <td>90848.00</td>\n",
       "      <td>0.00</td>\n",
       "      <td>5717.68</td>\n",
       "      <td>21</td>\n",
       "    </tr>\n",
       "    <tr>\n",
       "      <th>4</th>\n",
       "      <td>ABS</td>\n",
       "      <td>Alcohol Beverage Services</td>\n",
       "      <td>Administration</td>\n",
       "      <td>F</td>\n",
       "      <td>78902.00</td>\n",
       "      <td>205.16</td>\n",
       "      <td>2460.24</td>\n",
       "      <td>18</td>\n",
       "    </tr>\n",
       "  </tbody>\n",
       "</table>\n",
       "</div>"
      ],
      "text/plain": [
       "  department            department_name                  division gender  \\\n",
       "0        ABS  Alcohol Beverage Services  Wholesale Administration      F   \n",
       "1        ABS  Alcohol Beverage Services   Administrative Services      F   \n",
       "2        ABS  Alcohol Beverage Services            Administration      M   \n",
       "3        ABS  Alcohol Beverage Services      Wholesale Operations      F   \n",
       "4        ABS  Alcohol Beverage Services            Administration      F   \n",
       "\n",
       "  base_salary overtime_pay longevity_pay pay_grade  \n",
       "0    78902.00       199.17          0.00        18  \n",
       "1    35926.00         0.00       4038.91        16  \n",
       "2   167345.00         0.00          0.00        M2  \n",
       "3    90848.00         0.00       5717.68        21  \n",
       "4    78902.00       205.16       2460.24        18  "
      ]
     },
     "execution_count": 308,
     "metadata": {},
     "output_type": "execute_result"
    }
   ],
   "source": [
    "df.head()"
   ]
  },
  {
   "cell_type": "markdown",
   "metadata": {},
   "source": [
    "## Correct Datatypes"
   ]
  },
  {
   "cell_type": "code",
   "execution_count": 309,
   "metadata": {},
   "outputs": [],
   "source": [
    "# Identify numerical and categorical features\n",
    "numerical = ['base_salary', 'overtime_pay', 'longevity_pay', 'total_compensation', 'extra_pay']\n",
    "categorical = [feat for feat in df.columns if feat not in numerical]\n",
    "\n",
    "for feature in df.columns:\n",
    "    # Convert numerical features to float\n",
    "    if feature in numerical:\n",
    "        df[feature] = df[feature].astype(np.float64)"
   ]
  },
  {
   "cell_type": "markdown",
   "metadata": {},
   "source": [
    "## Check if department and department_name are redundant"
   ]
  },
  {
   "cell_type": "code",
   "execution_count": 310,
   "metadata": {},
   "outputs": [
    {
     "name": "stdout",
     "output_type": "stream",
     "text": [
      "Number of unique department values:  40\n",
      "Number of unique department_name values:  40\n"
     ]
    }
   ],
   "source": [
    "# Compare number of unique values\n",
    "print('Number of unique department values: ', df['department'].unique().shape[0])\n",
    "\n",
    "print('Number of unique department_name values: ', df['department_name'].unique().shape[0])"
   ]
  },
  {
   "cell_type": "markdown",
   "metadata": {},
   "source": [
    "The number of values is the same, suggesting the features are redundant. Pandas will list unique string features alphabetiically"
   ]
  },
  {
   "cell_type": "code",
   "execution_count": 311,
   "metadata": {},
   "outputs": [
    {
     "name": "stdout",
     "output_type": "stream",
     "text": [
      "ABS: Alcohol Beverage Services\n",
      "BOA: Board of Appeals Department\n",
      "BOE: Board of Elections\n",
      "CAT: County Attorney's Office\n",
      "CCL: County Council\n",
      "CEC: Community Engagement Cluster\n",
      "CEX: Offices of the County Executive\n",
      "COR: Correction and Rehabilitation\n",
      "CUS: Community Use of Public Facilities\n",
      "DEP: Department of Environmental Protection\n",
      "DGS: Department of General Services\n",
      "DHS: Office of Emergency Management and Homeland Security\n",
      "DOT: Department of Transportation\n",
      "DPS: Department of Permitting Services\n",
      "DTS: Department of Technology Services\n",
      "ECM: Ethics Commission\n",
      "FIN: Department of Finance\n",
      "FRS: Fire and Rescue Services\n",
      "HCA: Department of Housing and Community Affairs\n",
      "HHS: Department of Health and Human Services\n",
      "HRC: Office of Human Rights\n",
      "IGR: Office of Intergovernmental Relations Department\n",
      "LIB: Department of Public Libraries\n",
      "MPB: Merit System Protection Board Department\n",
      "NDA: Non-Departmental Account\n",
      "OAG: Office of Agriculture\n",
      "OAS: Office of Animal Services\n",
      "OCP: Office of Consumer Protection\n",
      "OHR: Office of Human Resources\n",
      "OIG: Office of the Inspector General\n",
      "OLO: Office of Legislative Oversight\n",
      "OLR: Office of Labor Relations\n",
      "OMB: Office of Management and Budget\n",
      "ORE: Office of Racial Equity and Social Justice\n",
      "PIO: Office of Public Information\n",
      "POL: Department of Police\n",
      "PRO: Office of Procurement\n",
      "REC: Department of Recreation\n",
      "SHF: Sheriff's Office\n",
      "ZAH: Office of Zoning and Administrative Hearings\n"
     ]
    }
   ],
   "source": [
    "for i, dept in enumerate(df['department'].unique()):\n",
    "    dept_name = df['department_name'].unique()[i]\n",
    "    print(f'{dept}: {dept_name}')"
   ]
  },
  {
   "cell_type": "markdown",
   "metadata": {},
   "source": [
    "Each abbreviation seems to correspond to the corresponding name. We can check to make sure that the same is true in the dataframe."
   ]
  },
  {
   "cell_type": "code",
   "execution_count": 312,
   "metadata": {},
   "outputs": [],
   "source": [
    "dept_mapper = {}\n",
    "for i, dept in enumerate(df['department'].unique()):\n",
    "    dept_name = df['department_name'].unique()[i]\n",
    "    dept_mapper[dept] = dept_name"
   ]
  },
  {
   "cell_type": "code",
   "execution_count": 313,
   "metadata": {},
   "outputs": [
    {
     "name": "stdout",
     "output_type": "stream",
     "text": [
      "department and mapped_department are redundant.\n"
     ]
    }
   ],
   "source": [
    "mapped_depts = df.replace({'department':dept_mapper})['department']\n",
    "if (mapped_depts == df['department_name']).all:\n",
    "    print('department and mapped_department are redundant.')\n",
    "else:\n",
    "    print('department and mapped_department are distinct.')"
   ]
  },
  {
   "cell_type": "markdown",
   "metadata": {},
   "source": [
    "The department and mapped_department features are not distinct."
   ]
  },
  {
   "cell_type": "markdown",
   "metadata": {},
   "source": [
    "# Exploratory Data Analysis"
   ]
  },
  {
   "cell_type": "markdown",
   "metadata": {},
   "source": [
    "Before EDA, I add a \"total_compensation\" feature, which is simply a sum of all of the compensation features, and a extra_compensation feature, which is a sum of the compensation features other than base_salary"
   ]
  },
  {
   "cell_type": "code",
   "execution_count": 314,
   "metadata": {},
   "outputs": [
    {
     "data": {
      "text/plain": [
       "(9958, 8)"
      ]
     },
     "execution_count": 314,
     "metadata": {},
     "output_type": "execute_result"
    }
   ],
   "source": [
    "df.shape"
   ]
  },
  {
   "cell_type": "code",
   "execution_count": 315,
   "metadata": {},
   "outputs": [],
   "source": [
    "df['total_compensation'] = df['base_salary'] + df['overtime_pay'] + df['longevity_pay']\n",
    "df['extra_pay'] = df['overtime_pay'] + df['longevity_pay']"
   ]
  },
  {
   "cell_type": "code",
   "execution_count": 316,
   "metadata": {},
   "outputs": [],
   "source": [
    "# Identify numerical and categorical features\n",
    "numerical = ['base_salary', 'total_compensation', 'overtime_pay', 'longevity_pay',  'extra_pay']\n",
    "categorical = [feat for feat in df.columns if feat not in numerical]"
   ]
  },
  {
   "cell_type": "markdown",
   "metadata": {},
   "source": [
    "# Numerical Features"
   ]
  },
  {
   "cell_type": "markdown",
   "metadata": {},
   "source": [
    "## General Compensation Figures"
   ]
  },
  {
   "cell_type": "code",
   "execution_count": 317,
   "metadata": {},
   "outputs": [
    {
     "data": {
      "text/html": [
       "<div>\n",
       "<style scoped>\n",
       "    .dataframe tbody tr th:only-of-type {\n",
       "        vertical-align: middle;\n",
       "    }\n",
       "\n",
       "    .dataframe tbody tr th {\n",
       "        vertical-align: top;\n",
       "    }\n",
       "\n",
       "    .dataframe thead th {\n",
       "        text-align: right;\n",
       "    }\n",
       "</style>\n",
       "<table border=\"1\" class=\"dataframe\">\n",
       "  <thead>\n",
       "    <tr style=\"text-align: right;\">\n",
       "      <th></th>\n",
       "      <th>base_salary</th>\n",
       "      <th>total_compensation</th>\n",
       "      <th>overtime_pay</th>\n",
       "      <th>longevity_pay</th>\n",
       "      <th>extra_pay</th>\n",
       "    </tr>\n",
       "  </thead>\n",
       "  <tbody>\n",
       "    <tr>\n",
       "      <th>count</th>\n",
       "      <td>9958.000000</td>\n",
       "      <td>9958.000000</td>\n",
       "      <td>9958.000000</td>\n",
       "      <td>9958.000000</td>\n",
       "      <td>9958.000000</td>\n",
       "    </tr>\n",
       "    <tr>\n",
       "      <th>mean</th>\n",
       "      <td>78771.464060</td>\n",
       "      <td>84877.199443</td>\n",
       "      <td>5182.163123</td>\n",
       "      <td>923.572259</td>\n",
       "      <td>6105.735383</td>\n",
       "    </tr>\n",
       "    <tr>\n",
       "      <th>std</th>\n",
       "      <td>30153.168916</td>\n",
       "      <td>33241.755832</td>\n",
       "      <td>11062.665975</td>\n",
       "      <td>2043.593190</td>\n",
       "      <td>11482.413971</td>\n",
       "    </tr>\n",
       "    <tr>\n",
       "      <th>min</th>\n",
       "      <td>11147.240000</td>\n",
       "      <td>11147.240000</td>\n",
       "      <td>0.000000</td>\n",
       "      <td>0.000000</td>\n",
       "      <td>0.000000</td>\n",
       "    </tr>\n",
       "    <tr>\n",
       "      <th>25%</th>\n",
       "      <td>56994.082500</td>\n",
       "      <td>61266.075000</td>\n",
       "      <td>0.000000</td>\n",
       "      <td>0.000000</td>\n",
       "      <td>0.000000</td>\n",
       "    </tr>\n",
       "    <tr>\n",
       "      <th>50%</th>\n",
       "      <td>75290.000000</td>\n",
       "      <td>81276.575000</td>\n",
       "      <td>414.995000</td>\n",
       "      <td>0.000000</td>\n",
       "      <td>1670.065000</td>\n",
       "    </tr>\n",
       "    <tr>\n",
       "      <th>75%</th>\n",
       "      <td>94668.000000</td>\n",
       "      <td>104680.000000</td>\n",
       "      <td>5394.387500</td>\n",
       "      <td>0.000000</td>\n",
       "      <td>7003.055000</td>\n",
       "    </tr>\n",
       "    <tr>\n",
       "      <th>max</th>\n",
       "      <td>280000.000000</td>\n",
       "      <td>280000.000000</td>\n",
       "      <td>141998.220000</td>\n",
       "      <td>12471.840000</td>\n",
       "      <td>146267.370000</td>\n",
       "    </tr>\n",
       "  </tbody>\n",
       "</table>\n",
       "</div>"
      ],
      "text/plain": [
       "         base_salary  total_compensation   overtime_pay  longevity_pay  \\\n",
       "count    9958.000000         9958.000000    9958.000000    9958.000000   \n",
       "mean    78771.464060        84877.199443    5182.163123     923.572259   \n",
       "std     30153.168916        33241.755832   11062.665975    2043.593190   \n",
       "min     11147.240000        11147.240000       0.000000       0.000000   \n",
       "25%     56994.082500        61266.075000       0.000000       0.000000   \n",
       "50%     75290.000000        81276.575000     414.995000       0.000000   \n",
       "75%     94668.000000       104680.000000    5394.387500       0.000000   \n",
       "max    280000.000000       280000.000000  141998.220000   12471.840000   \n",
       "\n",
       "           extra_pay  \n",
       "count    9958.000000  \n",
       "mean     6105.735383  \n",
       "std     11482.413971  \n",
       "min         0.000000  \n",
       "25%         0.000000  \n",
       "50%      1670.065000  \n",
       "75%      7003.055000  \n",
       "max    146267.370000  "
      ]
     },
     "execution_count": 317,
     "metadata": {},
     "output_type": "execute_result"
    }
   ],
   "source": [
    "df[numerical].describe()"
   ]
  },
  {
   "cell_type": "code",
   "execution_count": 318,
   "metadata": {},
   "outputs": [
    {
     "data": {
      "image/png": "[encoded data removed]",
      "text/plain": [
       "<Figure size 1440x576 with 2 Axes>"
      ]
     },
     "metadata": {
      "needs_background": "light"
     },
     "output_type": "display_data"
    }
   ],
   "source": [
    "fig, axes = plt.subplots(1, 2, figsize=(20, 8))\n",
    "\n",
    "sns.histplot(data=df, x='base_salary', ax=axes[0])\n",
    "axes[0].set_title('Base Salary')\n",
    "\n",
    "sns.histplot(data=df, x='total_compensation', ax=axes[1])\n",
    "axes[1].set_title('Total Compensation')\n",
    "\n",
    "plt.show()"
   ]
  },
  {
   "cell_type": "code",
   "execution_count": 319,
   "metadata": {},
   "outputs": [
    {
     "data": {
      "image/png": "[encoded data removed]",
      "text/plain": [
       "<Figure size 1440x720 with 3 Axes>"
      ]
     },
     "metadata": {
      "needs_background": "light"
     },
     "output_type": "display_data"
    }
   ],
   "source": [
    "fig, axes = plt.subplots(1, 3, figsize=(20, 10))\n",
    "\n",
    "sns.histplot(data=df, x='extra_pay', ax=axes[0])\n",
    "axes[0].set_title('Extra Pay')\n",
    "\n",
    "sns.histplot(data=df, x='overtime_pay', ax=axes[1])\n",
    "axes[1].set_title('Overtime')\n",
    "\n",
    "sns.histplot(data=df, x='longevity_pay', ax=axes[2])\n",
    "axes[2].set_title('Total Compensation')\n",
    "\n",
    "\n",
    "plt.show()"
   ]
  },
  {
   "cell_type": "markdown",
   "metadata": {},
   "source": [
    "We see from the plots abovee that it is very common for people not to receive any sort of pay beyond their base compensation. This is especially the case for longevity pay, which iis unsurprising."
   ]
  },
  {
   "cell_type": "markdown",
   "metadata": {},
   "source": [
    "## Bivariate Analysis"
   ]
  },
  {
   "cell_type": "code",
   "execution_count": 320,
   "metadata": {},
   "outputs": [
    {
     "data": {
      "text/plain": [
       "<AxesSubplot:>"
      ]
     },
     "execution_count": 320,
     "metadata": {},
     "output_type": "execute_result"
    },
    {
     "data": {
      "image/png": "[encoded data removed]",
      "text/plain": [
       "<Figure size 432x288 with 2 Axes>"
      ]
     },
     "metadata": {
      "needs_background": "light"
     },
     "output_type": "display_data"
    }
   ],
   "source": [
    "corr = df.corr()\n",
    "mask = np.triu(np.ones_like(corr))\n",
    "sns.heatmap(corr, annot=True, mask=mask, vmin=-1, vmax=1, cmap='vlag')"
   ]
  },
  {
   "cell_type": "markdown",
   "metadata": {},
   "source": [
    "Above we can see that there are strong correlations involving our engineered features, between total_compensation and base_salary and extra_pay and overtime_pay. In addition to the linear relationship it suggests by definition, this also suggests that total_compensation is largely determined by base_salary and extra_pay is largely determined by overtime_pay. The former is a bit obvious - one expects wages and salaries to contribute more to compensation than longevity pay and overtime in most cases. The latter is not surprising either. It is a safe assumption that longevity pay contributes less to extra pay than overtime, while this is not completely obvious."
   ]
  },
  {
   "cell_type": "code",
   "execution_count": 321,
   "metadata": {},
   "outputs": [
    {
     "data": {
      "image/png": "[encoded data removed]",
      "text/plain": [
       "<Figure size 944.625x900 with 20 Axes>"
      ]
     },
     "metadata": {
      "needs_background": "light"
     },
     "output_type": "display_data"
    }
   ],
   "source": [
    "sns.pairplot(df[numerical+['gender']], corner=True, hue='gender', plot_kws={'alpha':0.5})\n",
    "plt.show()"
   ]
  },
  {
   "cell_type": "markdown",
   "metadata": {},
   "source": [
    "From the plot above, we can confirm the correlations found by looking at correlation coefficients. The engineered features, extra_pay and total_compensation will be dropped and not used to train the model. \n",
    "\n",
    "It is not entirely obvious from the graphs that within each feature, the feature is drawn from a different distribution for each sex. However, women generally do seem to receive less compensation than men."
   ]
  },
  {
   "cell_type": "markdown",
   "metadata": {},
   "source": [
    "### Testing Means\n",
    "Above, it is unclear if the means of gender disaggregated distributions are different. That is tested below."
   ]
  },
  {
   "cell_type": "code",
   "execution_count": 322,
   "metadata": {},
   "outputs": [
    {
     "data": {
      "text/html": [
       "<div>\n",
       "<style scoped>\n",
       "    .dataframe tbody tr th:only-of-type {\n",
       "        vertical-align: middle;\n",
       "    }\n",
       "\n",
       "    .dataframe tbody tr th {\n",
       "        vertical-align: top;\n",
       "    }\n",
       "\n",
       "    .dataframe thead th {\n",
       "        text-align: right;\n",
       "    }\n",
       "</style>\n",
       "<table border=\"1\" class=\"dataframe\">\n",
       "  <thead>\n",
       "    <tr style=\"text-align: right;\">\n",
       "      <th></th>\n",
       "      <th>base_salary</th>\n",
       "      <th>total_compensation</th>\n",
       "      <th>overtime_pay</th>\n",
       "      <th>longevity_pay</th>\n",
       "      <th>extra_pay</th>\n",
       "    </tr>\n",
       "    <tr>\n",
       "      <th>gender</th>\n",
       "      <th></th>\n",
       "      <th></th>\n",
       "      <th></th>\n",
       "      <th></th>\n",
       "      <th></th>\n",
       "    </tr>\n",
       "  </thead>\n",
       "  <tbody>\n",
       "    <tr>\n",
       "      <th>F</th>\n",
       "      <td>76763.832068</td>\n",
       "      <td>79727.283388</td>\n",
       "      <td>2224.741322</td>\n",
       "      <td>738.709998</td>\n",
       "      <td>2963.451320</td>\n",
       "    </tr>\n",
       "    <tr>\n",
       "      <th>M</th>\n",
       "      <td>80171.365625</td>\n",
       "      <td>88468.184031</td>\n",
       "      <td>7244.343554</td>\n",
       "      <td>1052.474853</td>\n",
       "      <td>8296.818406</td>\n",
       "    </tr>\n",
       "  </tbody>\n",
       "</table>\n",
       "</div>"
      ],
      "text/plain": [
       "         base_salary  total_compensation  overtime_pay  longevity_pay  \\\n",
       "gender                                                                  \n",
       "F       76763.832068        79727.283388   2224.741322     738.709998   \n",
       "M       80171.365625        88468.184031   7244.343554    1052.474853   \n",
       "\n",
       "          extra_pay  \n",
       "gender               \n",
       "F       2963.451320  \n",
       "M       8296.818406  "
      ]
     },
     "execution_count": 322,
     "metadata": {},
     "output_type": "execute_result"
    }
   ],
   "source": [
    "# Mean of each numereical feature by gender\n",
    "df[numerical+['gender']].groupby('gender').mean()"
   ]
  },
  {
   "cell_type": "markdown",
   "metadata": {},
   "source": [
    "Above is a table showing the mean for each feature broken down by gender. Without testing, it is safe to assert that the features associated with extra pay have a large gender discrepancy. However, significance of the difference of means for all features is tested below with a t-test. Note that the sample size is large enough that the non-normality of the data iis not concerning."
   ]
  },
  {
   "cell_type": "code",
   "execution_count": 323,
   "metadata": {},
   "outputs": [
    {
     "name": "stdout",
     "output_type": "stream",
     "text": [
      "The mean values of base_salary for men and women are not equal.\n",
      "The mean values of total_compensation for men and women are not equal.\n",
      "The mean values of overtime_pay for men and women are not equal.\n",
      "The mean values of longevity_pay for men and women are not equal.\n",
      "The mean values of extra_pay for men and women are not equal.\n"
     ]
    }
   ],
   "source": [
    "from scipy.stats import ttest_ind\n",
    "alpha = 0.05\n",
    "for feature in numerical:\n",
    "    t, p = ttest_ind(df[df['gender'] == 'M'][feature], df[df['gender'] == 'F'][feature])\n",
    "    if p < alpha:\n",
    "        print(f'The mean values of {feature} for men and women are not equal.')\n",
    "    else:\n",
    "        print(f'The mean values of {feature} for men and women are equal.')"
   ]
  },
  {
   "cell_type": "markdown",
   "metadata": {},
   "source": [
    "We can see above that the numerical features all have different means for men and women."
   ]
  },
  {
   "cell_type": "markdown",
   "metadata": {},
   "source": [
    "## Categorical Variables"
   ]
  },
  {
   "cell_type": "markdown",
   "metadata": {},
   "source": [
    "## Gender\n",
    "Gender is the target variable. The representation of the variable is important as sufficiently. imbalanced target classes will affect model performance."
   ]
  },
  {
   "cell_type": "code",
   "execution_count": 324,
   "metadata": {},
   "outputs": [
    {
     "data": {
      "image/png": "[encoded data removed]",
      "text/plain": [
       "<Figure size 432x288 with 1 Axes>"
      ]
     },
     "metadata": {
      "needs_background": "light"
     },
     "output_type": "display_data"
    }
   ],
   "source": [
    "gender_counts = df['gender'].value_counts()/df.shape[0]*100\n",
    "gender_counts.plot.bar(rot=0, color=['blue', 'red'])\n",
    "plt.title('Gender Percentage')\n",
    "plt.ylabel('% in dataset')\n",
    "plt.show()"
   ]
  },
  {
   "cell_type": "markdown",
   "metadata": {},
   "source": [
    "The class representation is split about 60/40 in favor of males. This is imbalanced but not so much so that it will necessarily be an issue."
   ]
  },
  {
   "cell_type": "markdown",
   "metadata": {},
   "source": [
    "### Departments"
   ]
  },
  {
   "cell_type": "code",
   "execution_count": 325,
   "metadata": {},
   "outputs": [
    {
     "name": "stdout",
     "output_type": "stream",
     "text": [
      "There are 40 unique departments.\n"
     ]
    }
   ],
   "source": [
    "num_departments = df['department_name'].nunique()\n",
    "print(f'There are {num_departments} unique departments.')"
   ]
  },
  {
   "cell_type": "markdown",
   "metadata": {},
   "source": [
    "This is a fair number of departments, each of which could be a unique feature. To aid training, it would be useful to determine if any of these departments are of minimal use and can be discarded."
   ]
  },
  {
   "cell_type": "code",
   "execution_count": 326,
   "metadata": {},
   "outputs": [],
   "source": [
    "# Get percentage of men in each department and the number of employees per department\n",
    "department_gender_ratios = []\n",
    "dept_name = []\n",
    "employees = []\n",
    "for dept in df['department_name'].unique():\n",
    "\n",
    "    # Calculate the ratio of male to females\n",
    "    males = df[(df['department_name'] == dept) & (df['gender'] == 'M')]['gender'].count()\n",
    "    females = df[(df['department_name'] == dept) & (df['gender'] == 'F')]['gender'].count()\n",
    "    gender_ratio = males/(males+females)\n",
    "\n",
    "    department_gender_ratios.append(gender_ratio)\n",
    "    employees.append(males+females)\n",
    "\n",
    "    dept_name.append(dept)\n",
    "\n",
    "gender_ratio_dict = {'department_name':dept_name, 'gender_ratio':department_gender_ratios, 'employees':employees}\n",
    "df_ratios = pd.DataFrame.from_dict(gender_ratio_dict)"
   ]
  },
  {
   "cell_type": "code",
   "execution_count": 327,
   "metadata": {},
   "outputs": [
    {
     "data": {
      "text/html": [
       "<div>\n",
       "<style scoped>\n",
       "    .dataframe tbody tr th:only-of-type {\n",
       "        vertical-align: middle;\n",
       "    }\n",
       "\n",
       "    .dataframe tbody tr th {\n",
       "        vertical-align: top;\n",
       "    }\n",
       "\n",
       "    .dataframe thead th {\n",
       "        text-align: right;\n",
       "    }\n",
       "</style>\n",
       "<table border=\"1\" class=\"dataframe\">\n",
       "  <thead>\n",
       "    <tr style=\"text-align: right;\">\n",
       "      <th></th>\n",
       "      <th>gender_ratio</th>\n",
       "      <th>employees</th>\n",
       "    </tr>\n",
       "  </thead>\n",
       "  <tbody>\n",
       "    <tr>\n",
       "      <th>count</th>\n",
       "      <td>40.000000</td>\n",
       "      <td>40.00000</td>\n",
       "    </tr>\n",
       "    <tr>\n",
       "      <th>mean</th>\n",
       "      <td>0.468323</td>\n",
       "      <td>248.95000</td>\n",
       "    </tr>\n",
       "    <tr>\n",
       "      <th>std</th>\n",
       "      <td>0.230357</td>\n",
       "      <td>477.89753</td>\n",
       "    </tr>\n",
       "    <tr>\n",
       "      <th>min</th>\n",
       "      <td>0.000000</td>\n",
       "      <td>2.00000</td>\n",
       "    </tr>\n",
       "    <tr>\n",
       "      <th>25%</th>\n",
       "      <td>0.337838</td>\n",
       "      <td>13.25000</td>\n",
       "    </tr>\n",
       "    <tr>\n",
       "      <th>50%</th>\n",
       "      <td>0.452709</td>\n",
       "      <td>63.50000</td>\n",
       "    </tr>\n",
       "    <tr>\n",
       "      <th>75%</th>\n",
       "      <td>0.625034</td>\n",
       "      <td>173.25000</td>\n",
       "    </tr>\n",
       "    <tr>\n",
       "      <th>max</th>\n",
       "      <td>0.918262</td>\n",
       "      <td>1940.00000</td>\n",
       "    </tr>\n",
       "  </tbody>\n",
       "</table>\n",
       "</div>"
      ],
      "text/plain": [
       "       gender_ratio   employees\n",
       "count     40.000000    40.00000\n",
       "mean       0.468323   248.95000\n",
       "std        0.230357   477.89753\n",
       "min        0.000000     2.00000\n",
       "25%        0.337838    13.25000\n",
       "50%        0.452709    63.50000\n",
       "75%        0.625034   173.25000\n",
       "max        0.918262  1940.00000"
      ]
     },
     "execution_count": 327,
     "metadata": {},
     "output_type": "execute_result"
    }
   ],
   "source": [
    "df_ratios.describe()"
   ]
  },
  {
   "cell_type": "markdown",
   "metadata": {},
   "source": [
    "#### Number of Employees By Departments"
   ]
  },
  {
   "cell_type": "code",
   "execution_count": 328,
   "metadata": {},
   "outputs": [
    {
     "data": {
      "text/plain": [
       "<AxesSubplot:xlabel='employees', ylabel='Count'>"
      ]
     },
     "execution_count": 328,
     "metadata": {},
     "output_type": "execute_result"
    },
    {
     "data": {
      "image/png": "[encoded data removed]",
      "text/plain": [
       "<Figure size 432x288 with 1 Axes>"
      ]
     },
     "metadata": {
      "needs_background": "light"
     },
     "output_type": "display_data"
    }
   ],
   "source": [
    "sns.histplot(data=df_ratios, x='employees')"
   ]
  },
  {
   "cell_type": "code",
   "execution_count": 329,
   "metadata": {},
   "outputs": [
    {
     "name": "stdout",
     "output_type": "stream",
     "text": [
      "Below are the departments with a number of employees above the third quartiile:\n"
     ]
    },
    {
     "data": {
      "text/html": [
       "<div>\n",
       "<style scoped>\n",
       "    .dataframe tbody tr th:only-of-type {\n",
       "        vertical-align: middle;\n",
       "    }\n",
       "\n",
       "    .dataframe tbody tr th {\n",
       "        vertical-align: top;\n",
       "    }\n",
       "\n",
       "    .dataframe thead th {\n",
       "        text-align: right;\n",
       "    }\n",
       "</style>\n",
       "<table border=\"1\" class=\"dataframe\">\n",
       "  <thead>\n",
       "    <tr style=\"text-align: right;\">\n",
       "      <th></th>\n",
       "      <th>department_name</th>\n",
       "      <th>gender_ratio</th>\n",
       "      <th>employees</th>\n",
       "    </tr>\n",
       "  </thead>\n",
       "  <tbody>\n",
       "    <tr>\n",
       "      <th>35</th>\n",
       "      <td>Department of Police</td>\n",
       "      <td>0.638144</td>\n",
       "      <td>1940</td>\n",
       "    </tr>\n",
       "    <tr>\n",
       "      <th>19</th>\n",
       "      <td>Department of Health and Human Services</td>\n",
       "      <td>0.156286</td>\n",
       "      <td>1734</td>\n",
       "    </tr>\n",
       "    <tr>\n",
       "      <th>17</th>\n",
       "      <td>Fire and Rescue Services</td>\n",
       "      <td>0.918262</td>\n",
       "      <td>1358</td>\n",
       "    </tr>\n",
       "    <tr>\n",
       "      <th>12</th>\n",
       "      <td>Department of Transportation</td>\n",
       "      <td>0.804989</td>\n",
       "      <td>1323</td>\n",
       "    </tr>\n",
       "    <tr>\n",
       "      <th>7</th>\n",
       "      <td>Correction and Rehabilitation</td>\n",
       "      <td>0.624762</td>\n",
       "      <td>525</td>\n",
       "    </tr>\n",
       "    <tr>\n",
       "      <th>0</th>\n",
       "      <td>Alcohol Beverage Services</td>\n",
       "      <td>0.794521</td>\n",
       "      <td>438</td>\n",
       "    </tr>\n",
       "    <tr>\n",
       "      <th>10</th>\n",
       "      <td>Department of General Services</td>\n",
       "      <td>0.841346</td>\n",
       "      <td>416</td>\n",
       "    </tr>\n",
       "    <tr>\n",
       "      <th>22</th>\n",
       "      <td>Department of Public Libraries</td>\n",
       "      <td>0.223650</td>\n",
       "      <td>389</td>\n",
       "    </tr>\n",
       "    <tr>\n",
       "      <th>13</th>\n",
       "      <td>Department of Permitting Services</td>\n",
       "      <td>0.713656</td>\n",
       "      <td>227</td>\n",
       "    </tr>\n",
       "    <tr>\n",
       "      <th>38</th>\n",
       "      <td>Sheriff's Office</td>\n",
       "      <td>0.728571</td>\n",
       "      <td>210</td>\n",
       "    </tr>\n",
       "  </tbody>\n",
       "</table>\n",
       "</div>"
      ],
      "text/plain": [
       "                            department_name  gender_ratio  employees\n",
       "35                     Department of Police      0.638144       1940\n",
       "19  Department of Health and Human Services      0.156286       1734\n",
       "17                 Fire and Rescue Services      0.918262       1358\n",
       "12             Department of Transportation      0.804989       1323\n",
       "7             Correction and Rehabilitation      0.624762        525\n",
       "0                 Alcohol Beverage Services      0.794521        438\n",
       "10           Department of General Services      0.841346        416\n",
       "22           Department of Public Libraries      0.223650        389\n",
       "13        Department of Permitting Services      0.713656        227\n",
       "38                         Sheriff's Office      0.728571        210"
      ]
     },
     "execution_count": 329,
     "metadata": {},
     "output_type": "execute_result"
    }
   ],
   "source": [
    "print('Below are the departments with a number of employees above the third quartiile:')\n",
    "df_ratios[df_ratios['employees'] > np.quantile(df_ratios['employees'], q=0.75)].sort_values('employees', ascending=False)"
   ]
  },
  {
   "cell_type": "code",
   "execution_count": 330,
   "metadata": {},
   "outputs": [
    {
     "name": "stdout",
     "output_type": "stream",
     "text": [
      "Below are the departments with a number of employees below the first quartiile:\n"
     ]
    },
    {
     "data": {
      "text/html": [
       "<div>\n",
       "<style scoped>\n",
       "    .dataframe tbody tr th:only-of-type {\n",
       "        vertical-align: middle;\n",
       "    }\n",
       "\n",
       "    .dataframe tbody tr th {\n",
       "        vertical-align: top;\n",
       "    }\n",
       "\n",
       "    .dataframe thead th {\n",
       "        text-align: right;\n",
       "    }\n",
       "</style>\n",
       "<table border=\"1\" class=\"dataframe\">\n",
       "  <thead>\n",
       "    <tr style=\"text-align: right;\">\n",
       "      <th></th>\n",
       "      <th>department_name</th>\n",
       "      <th>gender_ratio</th>\n",
       "      <th>employees</th>\n",
       "    </tr>\n",
       "  </thead>\n",
       "  <tbody>\n",
       "    <tr>\n",
       "      <th>15</th>\n",
       "      <td>Ethics Commission</td>\n",
       "      <td>0.500000</td>\n",
       "      <td>2</td>\n",
       "    </tr>\n",
       "    <tr>\n",
       "      <th>23</th>\n",
       "      <td>Merit System Protection Board Department</td>\n",
       "      <td>0.500000</td>\n",
       "      <td>2</td>\n",
       "    </tr>\n",
       "    <tr>\n",
       "      <th>1</th>\n",
       "      <td>Board of Appeals Department</td>\n",
       "      <td>0.000000</td>\n",
       "      <td>3</td>\n",
       "    </tr>\n",
       "    <tr>\n",
       "      <th>33</th>\n",
       "      <td>Office of Racial Equity and Social Justice</td>\n",
       "      <td>0.000000</td>\n",
       "      <td>3</td>\n",
       "    </tr>\n",
       "    <tr>\n",
       "      <th>21</th>\n",
       "      <td>Office of Intergovernmental Relations Department</td>\n",
       "      <td>0.000000</td>\n",
       "      <td>5</td>\n",
       "    </tr>\n",
       "    <tr>\n",
       "      <th>39</th>\n",
       "      <td>Office of Zoning and Administrative Hearings</td>\n",
       "      <td>0.400000</td>\n",
       "      <td>5</td>\n",
       "    </tr>\n",
       "    <tr>\n",
       "      <th>31</th>\n",
       "      <td>Office of Labor Relations</td>\n",
       "      <td>0.857143</td>\n",
       "      <td>7</td>\n",
       "    </tr>\n",
       "    <tr>\n",
       "      <th>20</th>\n",
       "      <td>Office of Human Rights</td>\n",
       "      <td>0.555556</td>\n",
       "      <td>9</td>\n",
       "    </tr>\n",
       "    <tr>\n",
       "      <th>25</th>\n",
       "      <td>Office of Agriculture</td>\n",
       "      <td>0.600000</td>\n",
       "      <td>10</td>\n",
       "    </tr>\n",
       "    <tr>\n",
       "      <th>29</th>\n",
       "      <td>Office of the Inspector General</td>\n",
       "      <td>0.363636</td>\n",
       "      <td>11</td>\n",
       "    </tr>\n",
       "  </tbody>\n",
       "</table>\n",
       "</div>"
      ],
      "text/plain": [
       "                                     department_name  gender_ratio  employees\n",
       "15                                 Ethics Commission      0.500000          2\n",
       "23          Merit System Protection Board Department      0.500000          2\n",
       "1                        Board of Appeals Department      0.000000          3\n",
       "33        Office of Racial Equity and Social Justice      0.000000          3\n",
       "21  Office of Intergovernmental Relations Department      0.000000          5\n",
       "39      Office of Zoning and Administrative Hearings      0.400000          5\n",
       "31                         Office of Labor Relations      0.857143          7\n",
       "20                            Office of Human Rights      0.555556          9\n",
       "25                             Office of Agriculture      0.600000         10\n",
       "29                   Office of the Inspector General      0.363636         11"
      ]
     },
     "execution_count": 330,
     "metadata": {},
     "output_type": "execute_result"
    }
   ],
   "source": [
    "print('Below are the departments with a number of employees below the first quartiile:')\n",
    "df_ratios[df_ratios['employees'] < np.quantile(df_ratios['employees'], q=0.25)].sort_values('employees')"
   ]
  },
  {
   "cell_type": "markdown",
   "metadata": {},
   "source": [
    "Generally speaking, decision tree makes binary decisions with respect to features, with the goal of increasing the purity with respect to the target class, gender, of the resulting two sides of the split. In the case of features that are binary classes, like our encoded departments will be, this only helps the model to the extent these features are relatively balanced.\n",
    "\n",
    "Suppose we train a decision tree on all of the data, and the first split the decision tree makes is about a one hot encoded Board of Appeals feature. As a result the data is now split into two buckets. One consists of 3 people, all women. But this is still not a useful split for the tree to make because the other bucket consists of thousands of samples, and has a gender balance all but equivalent to the balance of all of the original data before the split. We would prefer that the tree never even consider splitting about this feature, and for that reason, the small departments above are dropped."
   ]
  },
  {
   "cell_type": "code",
   "execution_count": 331,
   "metadata": {},
   "outputs": [],
   "source": [
    "features_to_drop = df_ratios[df_ratios['employees'] < np.quantile(df_ratios['employees'], q=0.25)]['department_name'].values"
   ]
  },
  {
   "cell_type": "markdown",
   "metadata": {},
   "source": [
    "#### Check Gender Balance Distribution within Departments\n",
    "Knowing a person works in a department with 50% men provides no information about that person's gender. On the other hand, knowing a person belongs to a department with 100% or 0% men completely establishes their gender.  Below, the gender ratios within departments are examined, and departments that have a perfect 50/50 split between men and women."
   ]
  },
  {
   "cell_type": "code",
   "execution_count": 332,
   "metadata": {},
   "outputs": [
    {
     "data": {
      "image/png": "[encoded data removed]",
      "text/plain": [
       "<Figure size 432x288 with 1 Axes>"
      ]
     },
     "metadata": {
      "needs_background": "light"
     },
     "output_type": "display_data"
    }
   ],
   "source": [
    "sns.histplot(data=df_ratios, x='gender_ratio')\n",
    "plt.title('Ratio of Male Employees to Female')\n",
    "plt.show()\n"
   ]
  },
  {
   "cell_type": "code",
   "execution_count": 333,
   "metadata": {},
   "outputs": [
    {
     "name": "stdout",
     "output_type": "stream",
     "text": [
      "Below are the departments with gender ratios above the 3rd quartile, other than all-male departments, along with the number of employees per quartile.\n"
     ]
    },
    {
     "data": {
      "text/html": [
       "<div>\n",
       "<style scoped>\n",
       "    .dataframe tbody tr th:only-of-type {\n",
       "        vertical-align: middle;\n",
       "    }\n",
       "\n",
       "    .dataframe tbody tr th {\n",
       "        vertical-align: top;\n",
       "    }\n",
       "\n",
       "    .dataframe thead th {\n",
       "        text-align: right;\n",
       "    }\n",
       "</style>\n",
       "<table border=\"1\" class=\"dataframe\">\n",
       "  <thead>\n",
       "    <tr style=\"text-align: right;\">\n",
       "      <th></th>\n",
       "      <th>department_name</th>\n",
       "      <th>gender_ratio</th>\n",
       "      <th>employees</th>\n",
       "    </tr>\n",
       "  </thead>\n",
       "  <tbody>\n",
       "    <tr>\n",
       "      <th>17</th>\n",
       "      <td>Fire and Rescue Services</td>\n",
       "      <td>0.918262</td>\n",
       "      <td>1358</td>\n",
       "    </tr>\n",
       "    <tr>\n",
       "      <th>31</th>\n",
       "      <td>Office of Labor Relations</td>\n",
       "      <td>0.857143</td>\n",
       "      <td>7</td>\n",
       "    </tr>\n",
       "    <tr>\n",
       "      <th>10</th>\n",
       "      <td>Department of General Services</td>\n",
       "      <td>0.841346</td>\n",
       "      <td>416</td>\n",
       "    </tr>\n",
       "    <tr>\n",
       "      <th>12</th>\n",
       "      <td>Department of Transportation</td>\n",
       "      <td>0.804989</td>\n",
       "      <td>1323</td>\n",
       "    </tr>\n",
       "    <tr>\n",
       "      <th>0</th>\n",
       "      <td>Alcohol Beverage Services</td>\n",
       "      <td>0.794521</td>\n",
       "      <td>438</td>\n",
       "    </tr>\n",
       "    <tr>\n",
       "      <th>38</th>\n",
       "      <td>Sheriff's Office</td>\n",
       "      <td>0.728571</td>\n",
       "      <td>210</td>\n",
       "    </tr>\n",
       "    <tr>\n",
       "      <th>13</th>\n",
       "      <td>Department of Permitting Services</td>\n",
       "      <td>0.713656</td>\n",
       "      <td>227</td>\n",
       "    </tr>\n",
       "    <tr>\n",
       "      <th>5</th>\n",
       "      <td>Community Engagement Cluster</td>\n",
       "      <td>0.674699</td>\n",
       "      <td>83</td>\n",
       "    </tr>\n",
       "    <tr>\n",
       "      <th>35</th>\n",
       "      <td>Department of Police</td>\n",
       "      <td>0.638144</td>\n",
       "      <td>1940</td>\n",
       "    </tr>\n",
       "    <tr>\n",
       "      <th>14</th>\n",
       "      <td>Department of Technology Services</td>\n",
       "      <td>0.625850</td>\n",
       "      <td>147</td>\n",
       "    </tr>\n",
       "  </tbody>\n",
       "</table>\n",
       "</div>"
      ],
      "text/plain": [
       "                      department_name  gender_ratio  employees\n",
       "17           Fire and Rescue Services      0.918262       1358\n",
       "31          Office of Labor Relations      0.857143          7\n",
       "10     Department of General Services      0.841346        416\n",
       "12       Department of Transportation      0.804989       1323\n",
       "0           Alcohol Beverage Services      0.794521        438\n",
       "38                   Sheriff's Office      0.728571        210\n",
       "13  Department of Permitting Services      0.713656        227\n",
       "5        Community Engagement Cluster      0.674699         83\n",
       "35               Department of Police      0.638144       1940\n",
       "14  Department of Technology Services      0.625850        147"
      ]
     },
     "execution_count": 333,
     "metadata": {},
     "output_type": "execute_result"
    }
   ],
   "source": [
    "print('Below are the departments with gender ratios above the 3rd quartile, other than all-male departments, along with the number of employees per quartile.')\n",
    "df_ratios[(df_ratios['gender_ratio'] > np.quantile(df_ratios['gender_ratio'], q=0.75)) & (df_ratios['gender_ratio'] != 1)].sort_values('gender_ratio', ascending=False)"
   ]
  },
  {
   "cell_type": "markdown",
   "metadata": {},
   "source": [
    "Above, we can see that departments are generally skewed towards employing more men, and the gender imbalance is often substantial. A rational explanation for this might be that such departments employ relatively few people. For example, a department employing only 3 people will never have the same number of employees identified as male and female, and the imbalance presented as a percentage will always look severe. However, from the table above, we see this is not the case. With the exception of the Office of Labor Relations, the departments with gender imbalances above the third quartile also havee numbers of employees above the third quartile."
   ]
  },
  {
   "cell_type": "code",
   "execution_count": 334,
   "metadata": {},
   "outputs": [
    {
     "name": "stdout",
     "output_type": "stream",
     "text": [
      "Below are the departments with gender ratios below the 1st quartile, other than all-femal departments along with the number of employees per quartile.\n"
     ]
    },
    {
     "data": {
      "text/html": [
       "<div>\n",
       "<style scoped>\n",
       "    .dataframe tbody tr th:only-of-type {\n",
       "        vertical-align: middle;\n",
       "    }\n",
       "\n",
       "    .dataframe tbody tr th {\n",
       "        vertical-align: top;\n",
       "    }\n",
       "\n",
       "    .dataframe thead th {\n",
       "        text-align: right;\n",
       "    }\n",
       "</style>\n",
       "<table border=\"1\" class=\"dataframe\">\n",
       "  <thead>\n",
       "    <tr style=\"text-align: right;\">\n",
       "      <th></th>\n",
       "      <th>department_name</th>\n",
       "      <th>gender_ratio</th>\n",
       "      <th>employees</th>\n",
       "    </tr>\n",
       "  </thead>\n",
       "  <tbody>\n",
       "    <tr>\n",
       "      <th>3</th>\n",
       "      <td>County Attorney's Office</td>\n",
       "      <td>0.297297</td>\n",
       "      <td>74</td>\n",
       "    </tr>\n",
       "    <tr>\n",
       "      <th>26</th>\n",
       "      <td>Office of Animal Services</td>\n",
       "      <td>0.291667</td>\n",
       "      <td>72</td>\n",
       "    </tr>\n",
       "    <tr>\n",
       "      <th>16</th>\n",
       "      <td>Department of Finance</td>\n",
       "      <td>0.285714</td>\n",
       "      <td>119</td>\n",
       "    </tr>\n",
       "    <tr>\n",
       "      <th>28</th>\n",
       "      <td>Office of Human Resources</td>\n",
       "      <td>0.275862</td>\n",
       "      <td>58</td>\n",
       "    </tr>\n",
       "    <tr>\n",
       "      <th>2</th>\n",
       "      <td>Board of Elections</td>\n",
       "      <td>0.241379</td>\n",
       "      <td>29</td>\n",
       "    </tr>\n",
       "    <tr>\n",
       "      <th>22</th>\n",
       "      <td>Department of Public Libraries</td>\n",
       "      <td>0.223650</td>\n",
       "      <td>389</td>\n",
       "    </tr>\n",
       "    <tr>\n",
       "      <th>19</th>\n",
       "      <td>Department of Health and Human Services</td>\n",
       "      <td>0.156286</td>\n",
       "      <td>1734</td>\n",
       "    </tr>\n",
       "  </tbody>\n",
       "</table>\n",
       "</div>"
      ],
      "text/plain": [
       "                            department_name  gender_ratio  employees\n",
       "3                  County Attorney's Office      0.297297         74\n",
       "26                Office of Animal Services      0.291667         72\n",
       "16                    Department of Finance      0.285714        119\n",
       "28                Office of Human Resources      0.275862         58\n",
       "2                        Board of Elections      0.241379         29\n",
       "22           Department of Public Libraries      0.223650        389\n",
       "19  Department of Health and Human Services      0.156286       1734"
      ]
     },
     "execution_count": 334,
     "metadata": {},
     "output_type": "execute_result"
    }
   ],
   "source": [
    "print('Below are the departments with gender ratios below the 1st quartile, other than all-femal departments along with the number of employees per quartile.')\n",
    "df_ratios[(df_ratios['gender_ratio'] < np.quantile(df_ratios['gender_ratio'], q=0.25)) & (df_ratios['gender_ratio'] != 0)].sort_values('gender_ratio', ascending=False)"
   ]
  },
  {
   "cell_type": "markdown",
   "metadata": {},
   "source": [
    "Above, we see that there are only 3 departments with 50/50 representation of men and women. All three are small departments, which is unsurprising. All three will be removed. "
   ]
  },
  {
   "cell_type": "code",
   "execution_count": 335,
   "metadata": {},
   "outputs": [],
   "source": [
    "features_to_drop = np.concatenate([features_to_drop, df_ratios[df_ratios['gender_ratio'] == .5]['department_name'].values])"
   ]
  },
  {
   "cell_type": "markdown",
   "metadata": {},
   "source": [
    "### Divisions"
   ]
  },
  {
   "cell_type": "code",
   "execution_count": 336,
   "metadata": {},
   "outputs": [
    {
     "name": "stdout",
     "output_type": "stream",
     "text": [
      "There are 605 unique divisions.\n"
     ]
    }
   ],
   "source": [
    "num_divisions = df['division'].nunique()\n",
    "print(f'There are {num_divisions} unique divisions.')"
   ]
  },
  {
   "cell_type": "markdown",
   "metadata": {},
   "source": [
    "This is a very large number of divisions, given that each could be a unique feature. Including them all could make the training process much harder. Further, taken as a whole, they must contain the same information about gender distributions as the deparment, since every department consists of divisiions, albeit this information is split up in a diffent manner."
   ]
  },
  {
   "cell_type": "code",
   "execution_count": 337,
   "metadata": {},
   "outputs": [],
   "source": [
    "# Get percentage of men in each division and the number of employees per division\n",
    "division_gender_ratios = []\n",
    "division_name = []\n",
    "employees = []\n",
    "for division in df['division'].unique():\n",
    "    # Calculate the ratio of male to females\n",
    "    males = df[(df['division'] == division) & (df['gender'] == 'M')]['gender'].count()\n",
    "    females = df[(df['division'] == division) & (df['gender'] == 'F')]['gender'].count()\n",
    "    gender_ratio = males/(males+females)\n",
    "\n",
    "    division_gender_ratios.append(gender_ratio)\n",
    "    employees.append(males+females)\n",
    "\n",
    "    division_name.append(division)\n",
    "\n",
    "gender_ratio_dict = {'division':division_name, 'gender_ratio':division_gender_ratios, 'employees':employees}\n",
    "df_division_ratios = pd.DataFrame.from_dict(gender_ratio_dict)"
   ]
  },
  {
   "cell_type": "code",
   "execution_count": 338,
   "metadata": {},
   "outputs": [
    {
     "data": {
      "text/html": [
       "<div>\n",
       "<style scoped>\n",
       "    .dataframe tbody tr th:only-of-type {\n",
       "        vertical-align: middle;\n",
       "    }\n",
       "\n",
       "    .dataframe tbody tr th {\n",
       "        vertical-align: top;\n",
       "    }\n",
       "\n",
       "    .dataframe thead th {\n",
       "        text-align: right;\n",
       "    }\n",
       "</style>\n",
       "<table border=\"1\" class=\"dataframe\">\n",
       "  <thead>\n",
       "    <tr style=\"text-align: right;\">\n",
       "      <th></th>\n",
       "      <th>gender_ratio</th>\n",
       "      <th>employees</th>\n",
       "    </tr>\n",
       "  </thead>\n",
       "  <tbody>\n",
       "    <tr>\n",
       "      <th>count</th>\n",
       "      <td>605.000000</td>\n",
       "      <td>605.000000</td>\n",
       "    </tr>\n",
       "    <tr>\n",
       "      <th>mean</th>\n",
       "      <td>0.566116</td>\n",
       "      <td>16.459504</td>\n",
       "    </tr>\n",
       "    <tr>\n",
       "      <th>std</th>\n",
       "      <td>0.352437</td>\n",
       "      <td>36.760102</td>\n",
       "    </tr>\n",
       "    <tr>\n",
       "      <th>min</th>\n",
       "      <td>0.000000</td>\n",
       "      <td>1.000000</td>\n",
       "    </tr>\n",
       "    <tr>\n",
       "      <th>25%</th>\n",
       "      <td>0.250000</td>\n",
       "      <td>3.000000</td>\n",
       "    </tr>\n",
       "    <tr>\n",
       "      <th>50%</th>\n",
       "      <td>0.625000</td>\n",
       "      <td>7.000000</td>\n",
       "    </tr>\n",
       "    <tr>\n",
       "      <th>75%</th>\n",
       "      <td>0.909091</td>\n",
       "      <td>14.000000</td>\n",
       "    </tr>\n",
       "    <tr>\n",
       "      <th>max</th>\n",
       "      <td>1.000000</td>\n",
       "      <td>361.000000</td>\n",
       "    </tr>\n",
       "  </tbody>\n",
       "</table>\n",
       "</div>"
      ],
      "text/plain": [
       "       gender_ratio   employees\n",
       "count    605.000000  605.000000\n",
       "mean       0.566116   16.459504\n",
       "std        0.352437   36.760102\n",
       "min        0.000000    1.000000\n",
       "25%        0.250000    3.000000\n",
       "50%        0.625000    7.000000\n",
       "75%        0.909091   14.000000\n",
       "max        1.000000  361.000000"
      ]
     },
     "execution_count": 338,
     "metadata": {},
     "output_type": "execute_result"
    }
   ],
   "source": [
    "df_division_ratios.describe()"
   ]
  },
  {
   "cell_type": "markdown",
   "metadata": {},
   "source": [
    "We can see from the table above that most of the divisions have very small numbers of employees, meaning that they will not be very useful to the model. The divisions are so small, that I would not consider putting most in the model at all and focus the rest of my attention on only those with at least 100 employees."
   ]
  },
  {
   "cell_type": "code",
   "execution_count": 339,
   "metadata": {},
   "outputs": [
    {
     "data": {
      "text/html": [
       "<div>\n",
       "<style scoped>\n",
       "    .dataframe tbody tr th:only-of-type {\n",
       "        vertical-align: middle;\n",
       "    }\n",
       "\n",
       "    .dataframe tbody tr th {\n",
       "        vertical-align: top;\n",
       "    }\n",
       "\n",
       "    .dataframe thead th {\n",
       "        text-align: right;\n",
       "    }\n",
       "</style>\n",
       "<table border=\"1\" class=\"dataframe\">\n",
       "  <thead>\n",
       "    <tr style=\"text-align: right;\">\n",
       "      <th></th>\n",
       "      <th>division</th>\n",
       "      <th>gender_ratio</th>\n",
       "      <th>employees</th>\n",
       "    </tr>\n",
       "  </thead>\n",
       "  <tbody>\n",
       "    <tr>\n",
       "      <th>145</th>\n",
       "      <td>Fleet Management Fleet Services</td>\n",
       "      <td>1.000000</td>\n",
       "      <td>110</td>\n",
       "    </tr>\n",
       "    <tr>\n",
       "      <th>165</th>\n",
       "      <td>Highway Services</td>\n",
       "      <td>0.925439</td>\n",
       "      <td>228</td>\n",
       "    </tr>\n",
       "    <tr>\n",
       "      <th>179</th>\n",
       "      <td>Transit Gaithersburg Ride On</td>\n",
       "      <td>0.798834</td>\n",
       "      <td>343</td>\n",
       "    </tr>\n",
       "    <tr>\n",
       "      <th>185</th>\n",
       "      <td>Transit Silver Spring Ride On</td>\n",
       "      <td>0.846154</td>\n",
       "      <td>299</td>\n",
       "    </tr>\n",
       "    <tr>\n",
       "      <th>186</th>\n",
       "      <td>Transit Nicholson Ride On</td>\n",
       "      <td>0.741935</td>\n",
       "      <td>155</td>\n",
       "    </tr>\n",
       "    <tr>\n",
       "      <th>382</th>\n",
       "      <td>Behavioral Health and Crisis Services Division</td>\n",
       "      <td>0.218182</td>\n",
       "      <td>220</td>\n",
       "    </tr>\n",
       "    <tr>\n",
       "      <th>384</th>\n",
       "      <td>Office of Eligibility and Support Services</td>\n",
       "      <td>0.209877</td>\n",
       "      <td>243</td>\n",
       "    </tr>\n",
       "    <tr>\n",
       "      <th>385</th>\n",
       "      <td>Aging &amp; Disability Services Division</td>\n",
       "      <td>0.114458</td>\n",
       "      <td>166</td>\n",
       "    </tr>\n",
       "    <tr>\n",
       "      <th>387</th>\n",
       "      <td>Public Health Services Division</td>\n",
       "      <td>0.187500</td>\n",
       "      <td>208</td>\n",
       "    </tr>\n",
       "    <tr>\n",
       "      <th>390</th>\n",
       "      <td>School Health Services</td>\n",
       "      <td>0.038781</td>\n",
       "      <td>361</td>\n",
       "    </tr>\n",
       "    <tr>\n",
       "      <th>394</th>\n",
       "      <td>Child Welfare Services</td>\n",
       "      <td>0.092683</td>\n",
       "      <td>205</td>\n",
       "    </tr>\n",
       "    <tr>\n",
       "      <th>486</th>\n",
       "      <td>MSB Communications Division</td>\n",
       "      <td>0.337209</td>\n",
       "      <td>172</td>\n",
       "    </tr>\n",
       "    <tr>\n",
       "      <th>490</th>\n",
       "      <td>PSB 2nd District Patrol</td>\n",
       "      <td>0.740741</td>\n",
       "      <td>108</td>\n",
       "    </tr>\n",
       "    <tr>\n",
       "      <th>497</th>\n",
       "      <td>FSB Traffic Division School Safety Section</td>\n",
       "      <td>0.150838</td>\n",
       "      <td>179</td>\n",
       "    </tr>\n",
       "    <tr>\n",
       "      <th>506</th>\n",
       "      <td>PSB 4th District Patrol</td>\n",
       "      <td>0.775000</td>\n",
       "      <td>160</td>\n",
       "    </tr>\n",
       "    <tr>\n",
       "      <th>514</th>\n",
       "      <td>PSB 6th District Patrol</td>\n",
       "      <td>0.694915</td>\n",
       "      <td>118</td>\n",
       "    </tr>\n",
       "    <tr>\n",
       "      <th>520</th>\n",
       "      <td>PSB 3rd District Patrol</td>\n",
       "      <td>0.786667</td>\n",
       "      <td>150</td>\n",
       "    </tr>\n",
       "    <tr>\n",
       "      <th>528</th>\n",
       "      <td>PSB 5th District Patrol</td>\n",
       "      <td>0.811475</td>\n",
       "      <td>122</td>\n",
       "    </tr>\n",
       "  </tbody>\n",
       "</table>\n",
       "</div>"
      ],
      "text/plain": [
       "                                           division  gender_ratio  employees\n",
       "145                 Fleet Management Fleet Services      1.000000        110\n",
       "165                                Highway Services      0.925439        228\n",
       "179                    Transit Gaithersburg Ride On      0.798834        343\n",
       "185                   Transit Silver Spring Ride On      0.846154        299\n",
       "186                       Transit Nicholson Ride On      0.741935        155\n",
       "382  Behavioral Health and Crisis Services Division      0.218182        220\n",
       "384      Office of Eligibility and Support Services      0.209877        243\n",
       "385            Aging & Disability Services Division      0.114458        166\n",
       "387                 Public Health Services Division      0.187500        208\n",
       "390                          School Health Services      0.038781        361\n",
       "394                          Child Welfare Services      0.092683        205\n",
       "486                     MSB Communications Division      0.337209        172\n",
       "490                         PSB 2nd District Patrol      0.740741        108\n",
       "497      FSB Traffic Division School Safety Section      0.150838        179\n",
       "506                         PSB 4th District Patrol      0.775000        160\n",
       "514                         PSB 6th District Patrol      0.694915        118\n",
       "520                         PSB 3rd District Patrol      0.786667        150\n",
       "528                         PSB 5th District Patrol      0.811475        122"
      ]
     },
     "execution_count": 339,
     "metadata": {},
     "output_type": "execute_result"
    }
   ],
   "source": [
    "df_division_ratios[df_division_ratios['employees'] > 100]"
   ]
  },
  {
   "cell_type": "markdown",
   "metadata": {},
   "source": [
    "There are a fair number of features with over 100 employees, and these will be used to develop the model."
   ]
  },
  {
   "cell_type": "code",
   "execution_count": 340,
   "metadata": {},
   "outputs": [],
   "source": [
    "features_to_drop = np.concatenate([features_to_drop, df_division_ratios[df_division_ratios['employees'] < 100]['division'].values])"
   ]
  },
  {
   "cell_type": "markdown",
   "metadata": {},
   "source": [
    "### Pay Grades"
   ]
  },
  {
   "cell_type": "code",
   "execution_count": 341,
   "metadata": {},
   "outputs": [
    {
     "name": "stdout",
     "output_type": "stream",
     "text": [
      "There are 73 unique pay grades.\n"
     ]
    }
   ],
   "source": [
    "num_pay_grades = df['pay_grade'].nunique()\n",
    "print(f'There are {num_pay_grades} unique pay grades.')"
   ]
  },
  {
   "cell_type": "markdown",
   "metadata": {},
   "source": [
    "This is again a decently large number of pay grades, and it would be good to eliminate some."
   ]
  },
  {
   "cell_type": "code",
   "execution_count": 342,
   "metadata": {},
   "outputs": [
    {
     "name": "stdout",
     "output_type": "stream",
     "text": [
      "Below are the unique pay grades:\n"
     ]
    },
    {
     "data": {
      "text/plain": [
       "array(['18', '16', 'M2', '21', '25', '15', '10', '12', '17', '14', '13',\n",
       "       '26', '20', 'M3', '19', '9', '28', '0', 'M1', '23', '22', '32',\n",
       "       '5', '24', '27', 'C5', 'C1', 'C4', 'C2', 'C6', 'C3', '11', '30',\n",
       "       '8', '7', '34', '40', '29', 'B2', 'B6', 'F4', 'B1', 'F3', 'B3',\n",
       "       'F2', 'B4', 'B2P', 'F1', 'MD4', 'MD3', 'MD2', '39', '33', '38',\n",
       "       '31', 'P4', 'A1', 'P5', 'A2', 'A3', 'P4P', 'P3', 'P2', 'P1', 'D1',\n",
       "       'G4', 'D2', 'D3', 'D4', 'G3', 'G2', 'G1', '35'], dtype=object)"
      ]
     },
     "execution_count": 342,
     "metadata": {},
     "output_type": "execute_result"
    }
   ],
   "source": [
    "print('Below are the unique pay grades:')\n",
    "df['pay_grade'].unique()"
   ]
  },
  {
   "cell_type": "markdown",
   "metadata": {},
   "source": [
    "Above we can see the unique pay grades. These can be broken down into smaller categories\n",
    "* Numbers: These are the general pay grades\n",
    "* Beginning with M: management level pay grades\n",
    "* Beginning with C: correectional officers, correctional supervisors, etc.\n",
    "* Beginning with B: certain fire department pay grades\n",
    "* Beginning with F: certain other fire department pay grades\n",
    "* Beginning with MD: certain Department of Health and Human Services pay grades\n",
    "* Beginning with P: police department pay grades\n",
    "* Beginning with D: certain Sherriff's Office pay grades\n",
    "* Beginning with G: certain other Sherriff's Office pay grades\n",
    "\n",
    "These are then numbered to determine compensation levels. See, e.g. the slide deck [here](https://www.montgomerycountymd.gov/HR/Resources/Files/Classification/Compensation%20Documents/PMR%202020%2004072020.pdf), For grades beginning with letters, a higher number means lower compensation. But for grades that are just numbers, lower letters mean lower compensation."
   ]
  },
  {
   "cell_type": "code",
   "execution_count": 343,
   "metadata": {},
   "outputs": [],
   "source": [
    "# Get percentage of men in each pay grade and the number of employees per department\n",
    "pay_grade_gender_ratios = []\n",
    "pay_grade_name = []\n",
    "employees = []\n",
    "for pay_grade in df['pay_grade'].unique():\n",
    "    # Calculate the ratio of male to females\n",
    "    males = df[(df['pay_grade'] == pay_grade) & (df['gender'] == 'M')]['gender'].count()\n",
    "    females = df[(df['pay_grade'] == pay_grade) & (df['gender'] == 'F')]['gender'].count()\n",
    "    gender_ratio = males/(males+females)\n",
    "\n",
    "    pay_grade_gender_ratios.append(gender_ratio)\n",
    "    employees.append(males+females)\n",
    "\n",
    "    pay_grade_name.append(pay_grade)\n",
    "\n",
    "gender_ratio_dict = {'pay_grade':pay_grade_name, 'gender_ratio':pay_grade_gender_ratios, 'employees':employees}\n",
    "df_pay_grade_ratios = pd.DataFrame.from_dict(gender_ratio_dict)"
   ]
  },
  {
   "cell_type": "code",
   "execution_count": 344,
   "metadata": {},
   "outputs": [
    {
     "data": {
      "text/html": [
       "<div>\n",
       "<style scoped>\n",
       "    .dataframe tbody tr th:only-of-type {\n",
       "        vertical-align: middle;\n",
       "    }\n",
       "\n",
       "    .dataframe tbody tr th {\n",
       "        vertical-align: top;\n",
       "    }\n",
       "\n",
       "    .dataframe thead th {\n",
       "        text-align: right;\n",
       "    }\n",
       "</style>\n",
       "<table border=\"1\" class=\"dataframe\">\n",
       "  <thead>\n",
       "    <tr style=\"text-align: right;\">\n",
       "      <th></th>\n",
       "      <th>gender_ratio</th>\n",
       "      <th>employees</th>\n",
       "    </tr>\n",
       "  </thead>\n",
       "  <tbody>\n",
       "    <tr>\n",
       "      <th>count</th>\n",
       "      <td>73.000000</td>\n",
       "      <td>73.000000</td>\n",
       "    </tr>\n",
       "    <tr>\n",
       "      <th>mean</th>\n",
       "      <td>0.688060</td>\n",
       "      <td>136.410959</td>\n",
       "    </tr>\n",
       "    <tr>\n",
       "      <th>std</th>\n",
       "      <td>0.259135</td>\n",
       "      <td>202.062479</td>\n",
       "    </tr>\n",
       "    <tr>\n",
       "      <th>min</th>\n",
       "      <td>0.000000</td>\n",
       "      <td>1.000000</td>\n",
       "    </tr>\n",
       "    <tr>\n",
       "      <th>25%</th>\n",
       "      <td>0.500000</td>\n",
       "      <td>7.000000</td>\n",
       "    </tr>\n",
       "    <tr>\n",
       "      <th>50%</th>\n",
       "      <td>0.761468</td>\n",
       "      <td>38.000000</td>\n",
       "    </tr>\n",
       "    <tr>\n",
       "      <th>75%</th>\n",
       "      <td>0.894737</td>\n",
       "      <td>196.000000</td>\n",
       "    </tr>\n",
       "    <tr>\n",
       "      <th>max</th>\n",
       "      <td>1.000000</td>\n",
       "      <td>1125.000000</td>\n",
       "    </tr>\n",
       "  </tbody>\n",
       "</table>\n",
       "</div>"
      ],
      "text/plain": [
       "       gender_ratio    employees\n",
       "count     73.000000    73.000000\n",
       "mean       0.688060   136.410959\n",
       "std        0.259135   202.062479\n",
       "min        0.000000     1.000000\n",
       "25%        0.500000     7.000000\n",
       "50%        0.761468    38.000000\n",
       "75%        0.894737   196.000000\n",
       "max        1.000000  1125.000000"
      ]
     },
     "execution_count": 344,
     "metadata": {},
     "output_type": "execute_result"
    }
   ],
   "source": [
    "df_pay_grade_ratios.describe()"
   ]
  },
  {
   "cell_type": "markdown",
   "metadata": {},
   "source": [
    "#### Number of Employees by Pay Grade"
   ]
  },
  {
   "cell_type": "code",
   "execution_count": 345,
   "metadata": {},
   "outputs": [
    {
     "data": {
      "image/png": "[encoded data removed]",
      "text/plain": [
       "<Figure size 432x288 with 1 Axes>"
      ]
     },
     "metadata": {
      "needs_background": "light"
     },
     "output_type": "display_data"
    }
   ],
   "source": [
    "sns.histplot(data=df_pay_grade_ratios, x='employees')\n",
    "plt.title('Number of Employees per Pay Grade')\n",
    "plt.show()"
   ]
  },
  {
   "cell_type": "markdown",
   "metadata": {},
   "source": [
    "Immediately, we can tell that most pay grades are small, while a m nority are fairly large, representing several hunred employees."
   ]
  },
  {
   "cell_type": "code",
   "execution_count": 346,
   "metadata": {},
   "outputs": [
    {
     "name": "stdout",
     "output_type": "stream",
     "text": [
      "Below are the pay grades with a number of employees above the third quartiile:\n"
     ]
    },
    {
     "data": {
      "text/html": [
       "<div>\n",
       "<style scoped>\n",
       "    .dataframe tbody tr th:only-of-type {\n",
       "        vertical-align: middle;\n",
       "    }\n",
       "\n",
       "    .dataframe tbody tr th {\n",
       "        vertical-align: top;\n",
       "    }\n",
       "\n",
       "    .dataframe thead th {\n",
       "        text-align: right;\n",
       "    }\n",
       "</style>\n",
       "<table border=\"1\" class=\"dataframe\">\n",
       "  <thead>\n",
       "    <tr style=\"text-align: right;\">\n",
       "      <th></th>\n",
       "      <th>pay_grade</th>\n",
       "      <th>gender_ratio</th>\n",
       "      <th>employees</th>\n",
       "    </tr>\n",
       "  </thead>\n",
       "  <tbody>\n",
       "    <tr>\n",
       "      <th>0</th>\n",
       "      <td>18</td>\n",
       "      <td>0.404494</td>\n",
       "      <td>445</td>\n",
       "    </tr>\n",
       "    <tr>\n",
       "      <th>1</th>\n",
       "      <td>16</td>\n",
       "      <td>0.252747</td>\n",
       "      <td>455</td>\n",
       "    </tr>\n",
       "    <tr>\n",
       "      <th>3</th>\n",
       "      <td>21</td>\n",
       "      <td>0.433145</td>\n",
       "      <td>531</td>\n",
       "    </tr>\n",
       "    <tr>\n",
       "      <th>4</th>\n",
       "      <td>25</td>\n",
       "      <td>0.403599</td>\n",
       "      <td>389</td>\n",
       "    </tr>\n",
       "    <tr>\n",
       "      <th>5</th>\n",
       "      <td>15</td>\n",
       "      <td>0.657778</td>\n",
       "      <td>1125</td>\n",
       "    </tr>\n",
       "    <tr>\n",
       "      <th>6</th>\n",
       "      <td>10</td>\n",
       "      <td>0.322034</td>\n",
       "      <td>236</td>\n",
       "    </tr>\n",
       "    <tr>\n",
       "      <th>7</th>\n",
       "      <td>12</td>\n",
       "      <td>0.682243</td>\n",
       "      <td>214</td>\n",
       "    </tr>\n",
       "    <tr>\n",
       "      <th>9</th>\n",
       "      <td>14</td>\n",
       "      <td>0.761468</td>\n",
       "      <td>218</td>\n",
       "    </tr>\n",
       "    <tr>\n",
       "      <th>10</th>\n",
       "      <td>13</td>\n",
       "      <td>0.279693</td>\n",
       "      <td>261</td>\n",
       "    </tr>\n",
       "    <tr>\n",
       "      <th>12</th>\n",
       "      <td>20</td>\n",
       "      <td>0.372611</td>\n",
       "      <td>314</td>\n",
       "    </tr>\n",
       "    <tr>\n",
       "      <th>13</th>\n",
       "      <td>M3</td>\n",
       "      <td>0.496403</td>\n",
       "      <td>278</td>\n",
       "    </tr>\n",
       "    <tr>\n",
       "      <th>14</th>\n",
       "      <td>19</td>\n",
       "      <td>0.737226</td>\n",
       "      <td>274</td>\n",
       "    </tr>\n",
       "    <tr>\n",
       "      <th>19</th>\n",
       "      <td>23</td>\n",
       "      <td>0.410042</td>\n",
       "      <td>478</td>\n",
       "    </tr>\n",
       "    <tr>\n",
       "      <th>23</th>\n",
       "      <td>24</td>\n",
       "      <td>0.192042</td>\n",
       "      <td>578</td>\n",
       "    </tr>\n",
       "    <tr>\n",
       "      <th>40</th>\n",
       "      <td>F4</td>\n",
       "      <td>0.958716</td>\n",
       "      <td>218</td>\n",
       "    </tr>\n",
       "    <tr>\n",
       "      <th>42</th>\n",
       "      <td>F3</td>\n",
       "      <td>0.950783</td>\n",
       "      <td>447</td>\n",
       "    </tr>\n",
       "    <tr>\n",
       "      <th>44</th>\n",
       "      <td>F2</td>\n",
       "      <td>0.916058</td>\n",
       "      <td>274</td>\n",
       "    </tr>\n",
       "    <tr>\n",
       "      <th>55</th>\n",
       "      <td>P4</td>\n",
       "      <td>0.798153</td>\n",
       "      <td>758</td>\n",
       "    </tr>\n",
       "  </tbody>\n",
       "</table>\n",
       "</div>"
      ],
      "text/plain": [
       "   pay_grade  gender_ratio  employees\n",
       "0         18      0.404494        445\n",
       "1         16      0.252747        455\n",
       "3         21      0.433145        531\n",
       "4         25      0.403599        389\n",
       "5         15      0.657778       1125\n",
       "6         10      0.322034        236\n",
       "7         12      0.682243        214\n",
       "9         14      0.761468        218\n",
       "10        13      0.279693        261\n",
       "12        20      0.372611        314\n",
       "13        M3      0.496403        278\n",
       "14        19      0.737226        274\n",
       "19        23      0.410042        478\n",
       "23        24      0.192042        578\n",
       "40        F4      0.958716        218\n",
       "42        F3      0.950783        447\n",
       "44        F2      0.916058        274\n",
       "55        P4      0.798153        758"
      ]
     },
     "execution_count": 346,
     "metadata": {},
     "output_type": "execute_result"
    }
   ],
   "source": [
    "print('Below are the pay grades with a number of employees above the third quartiile:')\n",
    "df_pay_grade_ratios[df_pay_grade_ratios['employees'] > np.quantile(df_pay_grade_ratios['employees'], q=0.75)]"
   ]
  },
  {
   "cell_type": "markdown",
   "metadata": {},
   "source": [
    "With the exception of M3, these pay grades are either those that are not limited to particular departments or those from large departments, which makes sense. With the exception of M3, which has a nearly equal gender balance, they are also skewed towards mostly men or mostly women, some quite substantially."
   ]
  },
  {
   "cell_type": "code",
   "execution_count": 347,
   "metadata": {},
   "outputs": [
    {
     "name": "stdout",
     "output_type": "stream",
     "text": [
      "Below are some of the pay grades with a number of employees below the median:\n"
     ]
    },
    {
     "data": {
      "text/html": [
       "<div>\n",
       "<style scoped>\n",
       "    .dataframe tbody tr th:only-of-type {\n",
       "        vertical-align: middle;\n",
       "    }\n",
       "\n",
       "    .dataframe tbody tr th {\n",
       "        vertical-align: top;\n",
       "    }\n",
       "\n",
       "    .dataframe thead th {\n",
       "        text-align: right;\n",
       "    }\n",
       "</style>\n",
       "<table border=\"1\" class=\"dataframe\">\n",
       "  <thead>\n",
       "    <tr style=\"text-align: right;\">\n",
       "      <th></th>\n",
       "      <th>pay_grade</th>\n",
       "      <th>gender_ratio</th>\n",
       "      <th>employees</th>\n",
       "    </tr>\n",
       "  </thead>\n",
       "  <tbody>\n",
       "    <tr>\n",
       "      <th>15</th>\n",
       "      <td>9</td>\n",
       "      <td>0.972222</td>\n",
       "      <td>36</td>\n",
       "    </tr>\n",
       "    <tr>\n",
       "      <th>18</th>\n",
       "      <td>M1</td>\n",
       "      <td>0.538462</td>\n",
       "      <td>26</td>\n",
       "    </tr>\n",
       "    <tr>\n",
       "      <th>22</th>\n",
       "      <td>5</td>\n",
       "      <td>0.764706</td>\n",
       "      <td>17</td>\n",
       "    </tr>\n",
       "    <tr>\n",
       "      <th>24</th>\n",
       "      <td>27</td>\n",
       "      <td>0.555556</td>\n",
       "      <td>36</td>\n",
       "    </tr>\n",
       "    <tr>\n",
       "      <th>26</th>\n",
       "      <td>C1</td>\n",
       "      <td>0.727273</td>\n",
       "      <td>22</td>\n",
       "    </tr>\n",
       "    <tr>\n",
       "      <th>28</th>\n",
       "      <td>C2</td>\n",
       "      <td>0.750000</td>\n",
       "      <td>4</td>\n",
       "    </tr>\n",
       "    <tr>\n",
       "      <th>30</th>\n",
       "      <td>C3</td>\n",
       "      <td>0.846154</td>\n",
       "      <td>26</td>\n",
       "    </tr>\n",
       "    <tr>\n",
       "      <th>31</th>\n",
       "      <td>11</td>\n",
       "      <td>0.541667</td>\n",
       "      <td>24</td>\n",
       "    </tr>\n",
       "    <tr>\n",
       "      <th>32</th>\n",
       "      <td>30</td>\n",
       "      <td>0.400000</td>\n",
       "      <td>15</td>\n",
       "    </tr>\n",
       "    <tr>\n",
       "      <th>34</th>\n",
       "      <td>7</td>\n",
       "      <td>1.000000</td>\n",
       "      <td>2</td>\n",
       "    </tr>\n",
       "    <tr>\n",
       "      <th>35</th>\n",
       "      <td>34</td>\n",
       "      <td>1.000000</td>\n",
       "      <td>3</td>\n",
       "    </tr>\n",
       "    <tr>\n",
       "      <th>36</th>\n",
       "      <td>40</td>\n",
       "      <td>0.000000</td>\n",
       "      <td>2</td>\n",
       "    </tr>\n",
       "    <tr>\n",
       "      <th>37</th>\n",
       "      <td>29</td>\n",
       "      <td>0.800000</td>\n",
       "      <td>5</td>\n",
       "    </tr>\n",
       "    <tr>\n",
       "      <th>39</th>\n",
       "      <td>B6</td>\n",
       "      <td>1.000000</td>\n",
       "      <td>3</td>\n",
       "    </tr>\n",
       "    <tr>\n",
       "      <th>43</th>\n",
       "      <td>B3</td>\n",
       "      <td>0.920000</td>\n",
       "      <td>25</td>\n",
       "    </tr>\n",
       "  </tbody>\n",
       "</table>\n",
       "</div>"
      ],
      "text/plain": [
       "   pay_grade  gender_ratio  employees\n",
       "15         9      0.972222         36\n",
       "18        M1      0.538462         26\n",
       "22         5      0.764706         17\n",
       "24        27      0.555556         36\n",
       "26        C1      0.727273         22\n",
       "28        C2      0.750000          4\n",
       "30        C3      0.846154         26\n",
       "31        11      0.541667         24\n",
       "32        30      0.400000         15\n",
       "34         7      1.000000          2\n",
       "35        34      1.000000          3\n",
       "36        40      0.000000          2\n",
       "37        29      0.800000          5\n",
       "39        B6      1.000000          3\n",
       "43        B3      0.920000         25"
      ]
     },
     "execution_count": 347,
     "metadata": {},
     "output_type": "execute_result"
    }
   ],
   "source": [
    "print('Below are some of the pay grades with a number of employees below the median:')\n",
    "grade_below_median = df_pay_grade_ratios[df_pay_grade_ratios['employees'] < np.quantile(df_pay_grade_ratios['employees'], q=0.5)]\n",
    "grade_below_median.head(15)"
   ]
  },
  {
   "cell_type": "markdown",
   "metadata": {},
   "source": [
    "The pay grades above have few members, so they will be dropped."
   ]
  },
  {
   "cell_type": "markdown",
   "metadata": {},
   "source": [
    "#### Check Gender Balance Distribution within Pay Grades\n"
   ]
  },
  {
   "cell_type": "code",
   "execution_count": 348,
   "metadata": {},
   "outputs": [
    {
     "data": {
      "image/png": "[encoded data removed]",
      "text/plain": [
       "<Figure size 432x288 with 1 Axes>"
      ]
     },
     "metadata": {
      "needs_background": "light"
     },
     "output_type": "display_data"
    }
   ],
   "source": [
    "sns.histplot(data=df_pay_grade_ratios, x='gender_ratio')\n",
    "plt.title('Gender Ratio by Pay Grade')\n",
    "plt.show()\n"
   ]
  },
  {
   "cell_type": "markdown",
   "metadata": {},
   "source": [
    "From the above, it is clear that there are lots of pay grades that are skewed heavily with respect to gender, specifically, they are mostly male. However, further analysis is required to determine if each pay grade contains enough employees to be worth keeping in the model."
   ]
  },
  {
   "cell_type": "code",
   "execution_count": 349,
   "metadata": {},
   "outputs": [
    {
     "name": "stdout",
     "output_type": "stream",
     "text": [
      "Below are the pay grades with a gender ratio above the third quartile:\n"
     ]
    },
    {
     "data": {
      "text/html": [
       "<div>\n",
       "<style scoped>\n",
       "    .dataframe tbody tr th:only-of-type {\n",
       "        vertical-align: middle;\n",
       "    }\n",
       "\n",
       "    .dataframe tbody tr th {\n",
       "        vertical-align: top;\n",
       "    }\n",
       "\n",
       "    .dataframe thead th {\n",
       "        text-align: right;\n",
       "    }\n",
       "</style>\n",
       "<table border=\"1\" class=\"dataframe\">\n",
       "  <thead>\n",
       "    <tr style=\"text-align: right;\">\n",
       "      <th></th>\n",
       "      <th>pay_grade</th>\n",
       "      <th>gender_ratio</th>\n",
       "      <th>employees</th>\n",
       "    </tr>\n",
       "  </thead>\n",
       "  <tbody>\n",
       "    <tr>\n",
       "      <th>15</th>\n",
       "      <td>9</td>\n",
       "      <td>0.972222</td>\n",
       "      <td>36</td>\n",
       "    </tr>\n",
       "    <tr>\n",
       "      <th>34</th>\n",
       "      <td>7</td>\n",
       "      <td>1.000000</td>\n",
       "      <td>2</td>\n",
       "    </tr>\n",
       "    <tr>\n",
       "      <th>35</th>\n",
       "      <td>34</td>\n",
       "      <td>1.000000</td>\n",
       "      <td>3</td>\n",
       "    </tr>\n",
       "    <tr>\n",
       "      <th>38</th>\n",
       "      <td>B2</td>\n",
       "      <td>0.926667</td>\n",
       "      <td>150</td>\n",
       "    </tr>\n",
       "    <tr>\n",
       "      <th>39</th>\n",
       "      <td>B6</td>\n",
       "      <td>1.000000</td>\n",
       "      <td>3</td>\n",
       "    </tr>\n",
       "    <tr>\n",
       "      <th>40</th>\n",
       "      <td>F4</td>\n",
       "      <td>0.958716</td>\n",
       "      <td>218</td>\n",
       "    </tr>\n",
       "    <tr>\n",
       "      <th>41</th>\n",
       "      <td>B1</td>\n",
       "      <td>0.959677</td>\n",
       "      <td>124</td>\n",
       "    </tr>\n",
       "    <tr>\n",
       "      <th>42</th>\n",
       "      <td>F3</td>\n",
       "      <td>0.950783</td>\n",
       "      <td>447</td>\n",
       "    </tr>\n",
       "    <tr>\n",
       "      <th>43</th>\n",
       "      <td>B3</td>\n",
       "      <td>0.920000</td>\n",
       "      <td>25</td>\n",
       "    </tr>\n",
       "    <tr>\n",
       "      <th>44</th>\n",
       "      <td>F2</td>\n",
       "      <td>0.916058</td>\n",
       "      <td>274</td>\n",
       "    </tr>\n",
       "    <tr>\n",
       "      <th>46</th>\n",
       "      <td>B2P</td>\n",
       "      <td>1.000000</td>\n",
       "      <td>1</td>\n",
       "    </tr>\n",
       "    <tr>\n",
       "      <th>51</th>\n",
       "      <td>39</td>\n",
       "      <td>1.000000</td>\n",
       "      <td>4</td>\n",
       "    </tr>\n",
       "    <tr>\n",
       "      <th>52</th>\n",
       "      <td>33</td>\n",
       "      <td>1.000000</td>\n",
       "      <td>2</td>\n",
       "    </tr>\n",
       "    <tr>\n",
       "      <th>53</th>\n",
       "      <td>38</td>\n",
       "      <td>1.000000</td>\n",
       "      <td>1</td>\n",
       "    </tr>\n",
       "    <tr>\n",
       "      <th>54</th>\n",
       "      <td>31</td>\n",
       "      <td>1.000000</td>\n",
       "      <td>1</td>\n",
       "    </tr>\n",
       "    <tr>\n",
       "      <th>56</th>\n",
       "      <td>A1</td>\n",
       "      <td>0.897959</td>\n",
       "      <td>147</td>\n",
       "    </tr>\n",
       "    <tr>\n",
       "      <th>68</th>\n",
       "      <td>D4</td>\n",
       "      <td>1.000000</td>\n",
       "      <td>2</td>\n",
       "    </tr>\n",
       "    <tr>\n",
       "      <th>72</th>\n",
       "      <td>35</td>\n",
       "      <td>1.000000</td>\n",
       "      <td>1</td>\n",
       "    </tr>\n",
       "  </tbody>\n",
       "</table>\n",
       "</div>"
      ],
      "text/plain": [
       "   pay_grade  gender_ratio  employees\n",
       "15         9      0.972222         36\n",
       "34         7      1.000000          2\n",
       "35        34      1.000000          3\n",
       "38        B2      0.926667        150\n",
       "39        B6      1.000000          3\n",
       "40        F4      0.958716        218\n",
       "41        B1      0.959677        124\n",
       "42        F3      0.950783        447\n",
       "43        B3      0.920000         25\n",
       "44        F2      0.916058        274\n",
       "46       B2P      1.000000          1\n",
       "51        39      1.000000          4\n",
       "52        33      1.000000          2\n",
       "53        38      1.000000          1\n",
       "54        31      1.000000          1\n",
       "56        A1      0.897959        147\n",
       "68        D4      1.000000          2\n",
       "72        35      1.000000          1"
      ]
     },
     "execution_count": 349,
     "metadata": {},
     "output_type": "execute_result"
    }
   ],
   "source": [
    "print('Below are the pay grades with a gender ratio above the third quartile:')\n",
    "df_pay_grade_ratios[df_pay_grade_ratios['gender_ratio'] > np.quantile(df_pay_grade_ratios['gender_ratio'], q=0.75)]"
   ]
  },
  {
   "cell_type": "markdown",
   "metadata": {},
   "source": [
    "Many of these are actually quite small. Note that those will be removed. But others reepresent a substantial number of employees and should be kept in the model."
   ]
  },
  {
   "cell_type": "code",
   "execution_count": 350,
   "metadata": {},
   "outputs": [
    {
     "name": "stdout",
     "output_type": "stream",
     "text": [
      "Below are some of the pay grades with gender ratio below the median:\n"
     ]
    },
    {
     "data": {
      "text/html": [
       "<div>\n",
       "<style scoped>\n",
       "    .dataframe tbody tr th:only-of-type {\n",
       "        vertical-align: middle;\n",
       "    }\n",
       "\n",
       "    .dataframe tbody tr th {\n",
       "        vertical-align: top;\n",
       "    }\n",
       "\n",
       "    .dataframe thead th {\n",
       "        text-align: right;\n",
       "    }\n",
       "</style>\n",
       "<table border=\"1\" class=\"dataframe\">\n",
       "  <thead>\n",
       "    <tr style=\"text-align: right;\">\n",
       "      <th></th>\n",
       "      <th>pay_grade</th>\n",
       "      <th>gender_ratio</th>\n",
       "      <th>employees</th>\n",
       "    </tr>\n",
       "  </thead>\n",
       "  <tbody>\n",
       "    <tr>\n",
       "      <th>0</th>\n",
       "      <td>18</td>\n",
       "      <td>0.404494</td>\n",
       "      <td>445</td>\n",
       "    </tr>\n",
       "    <tr>\n",
       "      <th>1</th>\n",
       "      <td>16</td>\n",
       "      <td>0.252747</td>\n",
       "      <td>455</td>\n",
       "    </tr>\n",
       "    <tr>\n",
       "      <th>3</th>\n",
       "      <td>21</td>\n",
       "      <td>0.433145</td>\n",
       "      <td>531</td>\n",
       "    </tr>\n",
       "    <tr>\n",
       "      <th>4</th>\n",
       "      <td>25</td>\n",
       "      <td>0.403599</td>\n",
       "      <td>389</td>\n",
       "    </tr>\n",
       "    <tr>\n",
       "      <th>6</th>\n",
       "      <td>10</td>\n",
       "      <td>0.322034</td>\n",
       "      <td>236</td>\n",
       "    </tr>\n",
       "    <tr>\n",
       "      <th>8</th>\n",
       "      <td>17</td>\n",
       "      <td>0.496894</td>\n",
       "      <td>161</td>\n",
       "    </tr>\n",
       "    <tr>\n",
       "      <th>10</th>\n",
       "      <td>13</td>\n",
       "      <td>0.279693</td>\n",
       "      <td>261</td>\n",
       "    </tr>\n",
       "    <tr>\n",
       "      <th>12</th>\n",
       "      <td>20</td>\n",
       "      <td>0.372611</td>\n",
       "      <td>314</td>\n",
       "    </tr>\n",
       "    <tr>\n",
       "      <th>13</th>\n",
       "      <td>M3</td>\n",
       "      <td>0.496403</td>\n",
       "      <td>278</td>\n",
       "    </tr>\n",
       "    <tr>\n",
       "      <th>19</th>\n",
       "      <td>23</td>\n",
       "      <td>0.410042</td>\n",
       "      <td>478</td>\n",
       "    </tr>\n",
       "    <tr>\n",
       "      <th>21</th>\n",
       "      <td>32</td>\n",
       "      <td>0.404255</td>\n",
       "      <td>47</td>\n",
       "    </tr>\n",
       "    <tr>\n",
       "      <th>23</th>\n",
       "      <td>24</td>\n",
       "      <td>0.192042</td>\n",
       "      <td>578</td>\n",
       "    </tr>\n",
       "    <tr>\n",
       "      <th>32</th>\n",
       "      <td>30</td>\n",
       "      <td>0.400000</td>\n",
       "      <td>15</td>\n",
       "    </tr>\n",
       "    <tr>\n",
       "      <th>33</th>\n",
       "      <td>8</td>\n",
       "      <td>0.272727</td>\n",
       "      <td>44</td>\n",
       "    </tr>\n",
       "    <tr>\n",
       "      <th>36</th>\n",
       "      <td>40</td>\n",
       "      <td>0.000000</td>\n",
       "      <td>2</td>\n",
       "    </tr>\n",
       "    <tr>\n",
       "      <th>50</th>\n",
       "      <td>MD2</td>\n",
       "      <td>0.000000</td>\n",
       "      <td>1</td>\n",
       "    </tr>\n",
       "    <tr>\n",
       "      <th>60</th>\n",
       "      <td>P4P</td>\n",
       "      <td>0.142857</td>\n",
       "      <td>7</td>\n",
       "    </tr>\n",
       "  </tbody>\n",
       "</table>\n",
       "</div>"
      ],
      "text/plain": [
       "   pay_grade  gender_ratio  employees\n",
       "0         18      0.404494        445\n",
       "1         16      0.252747        455\n",
       "3         21      0.433145        531\n",
       "4         25      0.403599        389\n",
       "6         10      0.322034        236\n",
       "8         17      0.496894        161\n",
       "10        13      0.279693        261\n",
       "12        20      0.372611        314\n",
       "13        M3      0.496403        278\n",
       "19        23      0.410042        478\n",
       "21        32      0.404255         47\n",
       "23        24      0.192042        578\n",
       "32        30      0.400000         15\n",
       "33         8      0.272727         44\n",
       "36        40      0.000000          2\n",
       "50       MD2      0.000000          1\n",
       "60       P4P      0.142857          7"
      ]
     },
     "execution_count": 350,
     "metadata": {},
     "output_type": "execute_result"
    }
   ],
   "source": [
    "print('Below are some of the pay grades with gender ratio below the median:')\n",
    "gender_ratio_below_median = df_pay_grade_ratios[df_pay_grade_ratios['gender_ratio'] < np.quantile(df_pay_grade_ratios['gender_ratio'], q=0.25)]\n",
    "gender_ratio_below_median"
   ]
  },
  {
   "cell_type": "markdown",
   "metadata": {},
   "source": [
    "A substantial number of these represent a good number of workers. However, M3 has nearly 50% women. For this reason, I will manually drop all pay grades with < 49% women. Other pay grades that will be dropped are those with fewer than the median number of employees or those with a gender ratio under the third quartile."
   ]
  },
  {
   "cell_type": "code",
   "execution_count": 351,
   "metadata": {},
   "outputs": [],
   "source": [
    "employee_median = np.quantile(df_pay_grade_ratios['employees'], q=0.5)\n",
    "\n",
    "gender_ratio_1q = np.quantile(df_pay_grade_ratios['gender_ratio'], q=0.25)\n",
    "gender_ratio_3q = np.quantile(df_pay_grade_ratios['gender_ratio'], q=0.75)\n",
    "\n",
    "bad_pay_grades = df_pay_grade_ratios[(df_pay_grade_ratios['employees'] <= employee_median) & ((df_pay_grade_ratios['gender_ratio'] >= .49) | (df_pay_grade_ratios['gender_ratio'] <= gender_ratio_3q))]\n",
    "features_to_drop = np.concatenate([features_to_drop, bad_pay_grades['pay_grade'].values])"
   ]
  },
  {
   "cell_type": "markdown",
   "metadata": {},
   "source": [
    "# Encoding Categorical Variables\n",
    "Each division and department is one hot encoded into a different feature."
   ]
  },
  {
   "cell_type": "code",
   "execution_count": 352,
   "metadata": {},
   "outputs": [],
   "source": [
    "depts = pd.get_dummies(data=df['department_name'])\n",
    "divisions = pd.get_dummies(data=df['division'])\n",
    "pay_grade = pd.get_dummies(data=df['pay_grade'])\n",
    "\n",
    "df = pd.concat([df[numerical+['gender']], depts, divisions, pay_grade], axis=1)"
   ]
  },
  {
   "cell_type": "markdown",
   "metadata": {},
   "source": [
    "## Drop  Features\n",
    "Certain divisions and departments are dropped, as discussed above."
   ]
  },
  {
   "cell_type": "code",
   "execution_count": 353,
   "metadata": {},
   "outputs": [
    {
     "name": "stdout",
     "output_type": "stream",
     "text": [
      "Dropped 637 features.\n"
     ]
    }
   ],
   "source": [
    "df = df[[feature for feature in df.columns if feature not in features_to_drop]]\n",
    "print(f'Dropped {len(features_to_drop)} features.')"
   ]
  },
  {
   "cell_type": "markdown",
   "metadata": {},
   "source": [
    "# Train Classifier"
   ]
  },
  {
   "cell_type": "markdown",
   "metadata": {},
   "source": [
    "## Cross Validation"
   ]
  },
  {
   "cell_type": "code",
   "execution_count": 354,
   "metadata": {},
   "outputs": [],
   "source": [
    "# split the data\n",
    "x_train, x_test, y_train, y_test = train_test_split(df[[feature for feature in df.columns if feature != 'gender']],\n",
    "                                                     df['gender'].astype('category').cat.codes,\n",
    "                                                     stratify=df['gender'].astype('category').cat.codes, random_state=123)"
   ]
  },
  {
   "cell_type": "code",
   "execution_count": 364,
   "metadata": {},
   "outputs": [
    {
     "name": "stdout",
     "output_type": "stream",
     "text": [
      "Fitting 5 folds for each of 500 candidates, totalling 2500 fits\n"
     ]
    }
   ],
   "source": [
    "\n",
    "from sklearn.model_selection import GridSearchCV\n",
    "def do_cv(x_train, y_train):\n",
    "    '''\n",
    "    Performs 5-fold cross validation while searching randomly through parameters space.\n",
    "    '''\n",
    "    clf_xgb = XGBClassifier(random_state=1234)\n",
    "    param_dist = {'n_estimators': np.linspace(150, 500, dtype=int),\n",
    "                'learning_rate': np.logspace(-5, 0, base=10, num=100),\n",
    "                # Subsample ratio for training instances\n",
    "                'subsample': np.logspace(-5, 0, base=10, num=100),\n",
    "                'max_depth': [3, 4, 5],\n",
    "                # Subsample ratio for columns when constructing trees\n",
    "                'colsample_bytree': np.logspace(-5, 0, base=10, num=100),\n",
    "                'min_child_weight': [1, 2, 3]\n",
    "                }\n",
    "    clf = RandomizedSearchCV(clf_xgb, param_distributions = param_dist, n_iter = 500, \n",
    "                            scoring = 'accuracy', error_score = 0, verbose = 3, n_jobs = 3, random_state=1234)\n",
    "\n",
    "    # clf = GridSearchCV(clf_xgb, param_grid=param_dist,\n",
    "    #                         scoring = 'accuracy', error_score = 0, verbose = 3, n_jobs = 3)\n",
    "\n",
    "    clf.fit(x_train, y_train)\n",
    "    return clf.best_estimator_\n",
    "\n",
    "\n",
    "xg = do_cv(x_train, y_train)"
   ]
  },
  {
   "cell_type": "code",
   "execution_count": 365,
   "metadata": {},
   "outputs": [
    {
     "name": "stderr",
     "output_type": "stream",
     "text": [
      "c:\\Users\\Patrick\\AppData\\Local\\Programs\\Python\\Python39\\lib\\site-packages\\xgboost\\sklearn.py:793: UserWarning: `eval_metric` in `fit` method is deprecated for better compatibility with scikit-learn, use `eval_metric` in constructor or`set_params` instead.\n",
      "  warnings.warn(\n"
     ]
    }
   ],
   "source": [
    "val_size = int(x_train.shape[0]*0.8)\n",
    "x_train_full, y_train_full = x_train, y_train\n",
    "\n",
    "x_train, y_train = x_train_full[:val_size], y_train_full[:val_size]\n",
    "x_val, y_val = x_train_full[val_size:], y_train_full[val_size:]\n",
    "\n",
    "eval_set = [(x_train, y_train), (x_val, y_val)]\n",
    "xg.fit(x_train, y_train, eval_metric=['logloss', 'error'], eval_set=eval_set, verbose=False)\n",
    "\n",
    "results = xg.evals_result()"
   ]
  },
  {
   "cell_type": "code",
   "execution_count": 366,
   "metadata": {},
   "outputs": [
    {
     "data": {
      "image/png": "[encoded data removed]",
      "text/plain": [
       "<Figure size 1080x360 with 2 Axes>"
      ]
     },
     "metadata": {
      "needs_background": "light"
     },
     "output_type": "display_data"
    }
   ],
   "source": [
    "train_acc = [1-err for err in results['validation_0']['error']]\n",
    "test_acc = [1-err for err in results['validation_1']['error']]\n",
    "\n",
    "train_ce =results['validation_0']['logloss']\n",
    "test_ce = results['validation_1']['logloss']\n",
    "\n",
    "epochs = range(len(test_acc))\n",
    "\n",
    "fig, axes = plt.subplots(1, 2, figsize=(15, 5))\n",
    "\n",
    "sns.lineplot(x=epochs, y=train_acc, ax=axes[0])\n",
    "sns.lineplot(x=epochs, y=test_acc, ax=axes[0])\n",
    "axes[0].set_title('Accuracy')\n",
    "axes[0].set_xlabel('Epoch')\n",
    "axes[0].set_ylabel('Accuracy')\n",
    "axes[0].legend(title='Data Subset', loc='upper left', labels=['Train', 'Test'])\n",
    "\n",
    "\n",
    "sns.lineplot(x=epochs, y=train_ce, ax=axes[1])\n",
    "sns.lineplot(x=epochs, y=test_ce, ax=axes[1])\n",
    "axes[1].set_title('Loss')\n",
    "axes[1].set_xlabel('Epoch')\n",
    "axes[1].set_ylabel('Loss')\n",
    "axes[1].legend(title='Data Subset', loc='upper right', labels=['Train', 'Test'])\n",
    "\n",
    "\n",
    "plt.show()\n"
   ]
  },
  {
   "cell_type": "markdown",
   "metadata": {},
   "source": [
    "From the training process above, we can seee that the model's training plateau's very quickly in the training process, certainly by at least epoch 150. From that point onwards, the model continues to fit to the training set, while the test set accuracy eventually decreases and the loss plateaus. to avoid this, the model is overtrained and stopped at the 150th epoch."
   ]
  },
  {
   "cell_type": "code",
   "execution_count": 367,
   "metadata": {},
   "outputs": [
    {
     "name": "stderr",
     "output_type": "stream",
     "text": [
      "c:\\Users\\Patrick\\AppData\\Local\\Programs\\Python\\Python39\\lib\\site-packages\\xgboost\\sklearn.py:793: UserWarning: `eval_metric` in `fit` method is deprecated for better compatibility with scikit-learn, use `eval_metric` in constructor or`set_params` instead.\n",
      "  warnings.warn(\n",
      "c:\\Users\\Patrick\\AppData\\Local\\Programs\\Python\\Python39\\lib\\site-packages\\xgboost\\sklearn.py:793: UserWarning: `early_stopping_rounds` in `fit` method is deprecated for better compatibility with scikit-learn, use `early_stopping_rounds` in constructor or`set_params` instead.\n",
      "  warnings.warn(\n"
     ]
    },
    {
     "data": {
      "text/plain": [
       "XGBClassifier(base_score=0.5, booster='gbtree', callbacks=None,\n",
       "              colsample_bylevel=1, colsample_bynode=1,\n",
       "              colsample_bytree=0.0774263682681127, early_stopping_rounds=None,\n",
       "              enable_categorical=False, eval_metric=None, gamma=0, gpu_id=-1,\n",
       "              grow_policy='depthwise', importance_type=None,\n",
       "              interaction_constraints='', learning_rate=0.12328467394420659,\n",
       "              max_bin=256, max_cat_to_onehot=4, max_delta_step=0, max_depth=4,\n",
       "              max_leaves=0, min_child_weight=1, missing=nan,\n",
       "              monotone_constraints='()', n_estimators=200, n_jobs=0,\n",
       "              num_parallel_tree=1, predictor='auto', random_state=1234,\n",
       "              reg_alpha=0, reg_lambda=1, ...)"
      ]
     },
     "execution_count": 367,
     "metadata": {},
     "output_type": "execute_result"
    }
   ],
   "source": [
    "# Train with early stopping\n",
    "xg.fit(x_train, y_train, early_stopping_rounds=150, eval_metric=['logloss', 'error'], eval_set=eval_set, verbose=0)"
   ]
  },
  {
   "cell_type": "code",
   "execution_count": 368,
   "metadata": {},
   "outputs": [
    {
     "data": {
      "image/png": "[encoded data removed]",
      "text/plain": [
       "<Figure size 1440x1440 with 1 Axes>"
      ]
     },
     "metadata": {
      "needs_background": "light"
     },
     "output_type": "display_data"
    }
   ],
   "source": [
    "feat_imps = sorted([(xg.feature_names_in_[i], feat_importance) for i, feat_importance in enumerate(xg.feature_importances_) if feat_importance > 0], key=lambda x: x[1], reverse=True)\n",
    "feature_names, importances = zip(*feat_imps)\n",
    "\n",
    "plt.figure(figsize=(20, 20))\n",
    "sns.barplot(x=list(importances), y=list(feature_names))\n",
    "plt.title('Feature Importances')\n",
    "plt.show()"
   ]
  },
  {
   "cell_type": "code",
   "execution_count": 369,
   "metadata": {},
   "outputs": [
    {
     "name": "stdout",
     "output_type": "stream",
     "text": [
      "The model found the following features useless:\n",
      "gender\n",
      "Office of Emergency Management and Homeland Security\n"
     ]
    }
   ],
   "source": [
    "print(f'The model found the following features useless:')\n",
    "for feat in df.columns:\n",
    "    if feat not in feature_names:\n",
    "        print(feat)"
   ]
  },
  {
   "cell_type": "markdown",
   "metadata": {},
   "source": [
    "The model finds most of our non-target features to be at least minimally important. Further, many of the large, gender-imbalanced departments and some pay grades representing the fire department, which has a high level of gender imbalance, are given relatively high importances."
   ]
  },
  {
   "cell_type": "markdown",
   "metadata": {},
   "source": [
    "# Evaluation\n",
    "The model is evaluated using four metrics. \n",
    "* Accuracy: the percentage of samples classified correctly.\n",
    "* Precision: for a class, of the samples classified as the class, what percentage was classified correctly?\n",
    "* Recall: for a class, what percentage of class members were correctly classified as the class?\n",
    "* f1: a harmonic mean  of precision and recall"
   ]
  },
  {
   "cell_type": "code",
   "execution_count": 370,
   "metadata": {},
   "outputs": [
    {
     "name": "stdout",
     "output_type": "stream",
     "text": [
      "              precision    recall  f1-score   support\n",
      "\n",
      "      Female       0.64      0.77      0.70       847\n",
      "        Male       0.87      0.78      0.82      1643\n",
      "\n",
      "    accuracy                           0.78      2490\n",
      "   macro avg       0.76      0.78      0.76      2490\n",
      "weighted avg       0.79      0.78      0.78      2490\n",
      "\n"
     ]
    }
   ],
   "source": [
    "y_pred = xg.predict(x_test)\n",
    "print(classification_report(y_pred, y_test, target_names=['Female', 'Male']))"
   ]
  },
  {
   "cell_type": "markdown",
   "metadata": {},
   "source": [
    "The model classified 78% of samples correctly, but performance differed greatly between the classes. The model received an f1 score of only 0.70 on Female samples but performed substantially better on Male samples, with an f1 score of 0.82\n",
    "\n",
    "When the model classified samples as female, it was right only 64% of the same, but it correctly identified 77% of female samples. When the model classified samples as male, it was right 87% of the time, but it only identified 78% of males."
   ]
  },
  {
   "cell_type": "markdown",
   "metadata": {},
   "source": [
    "# Conclusion\n",
    "The model performs fairly well, with an accuracy of 78%, but its pereformance varies substantially between classes."
   ]
  }
 ],
 "metadata": {
  "kernelspec": {
   "display_name": "Python 3.9.6 64-bit",
   "language": "python",
   "name": "python3"
  },
  "language_info": {
   "codemirror_mode": {
    "name": "ipython",
    "version": 3
   },
   "file_extension": ".py",
   "mimetype": "text/x-python",
   "name": "python",
   "nbconvert_exporter": "python",
   "pygments_lexer": "ipython3",
   "version": "3.9.6"
  },
  "orig_nbformat": 4,
  "vscode": {
   "interpreter": {
    "hash": "c0480a40de60fe0b4be044949303dbe98ce3610184aeb132e77bccbcbbb8df2a"
   }
  }
 },
 "nbformat": 4,
 "nbformat_minor": 2
}
